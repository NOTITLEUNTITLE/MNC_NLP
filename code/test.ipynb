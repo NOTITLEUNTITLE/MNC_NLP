{
 "cells": [
  {
   "cell_type": "code",
   "execution_count": null,
   "metadata": {},
   "outputs": [],
   "source": []
  },
  {
   "cell_type": "code",
   "execution_count": null,
   "metadata": {},
   "outputs": [],
   "source": []
  },
  {
   "cell_type": "code",
   "execution_count": null,
   "metadata": {},
   "outputs": [],
   "source": []
  },
  {
   "cell_type": "code",
   "execution_count": 143,
   "metadata": {},
   "outputs": [],
   "source": [
    "import os\n",
    "import numpy as np\n",
    "import pandas as pd\n",
    "import matplotlib.pyplot as plt"
   ]
  },
  {
   "cell_type": "code",
   "execution_count": 20,
   "metadata": {},
   "outputs": [],
   "source": [
    "# os.getcwd()"
   ]
  },
  {
   "cell_type": "code",
   "execution_count": 144,
   "metadata": {},
   "outputs": [
    {
     "data": {
      "text/html": [
       "<div>\n",
       "<style scoped>\n",
       "    .dataframe tbody tr th:only-of-type {\n",
       "        vertical-align: middle;\n",
       "    }\n",
       "\n",
       "    .dataframe tbody tr th {\n",
       "        vertical-align: top;\n",
       "    }\n",
       "\n",
       "    .dataframe thead th {\n",
       "        text-align: right;\n",
       "    }\n",
       "</style>\n",
       "<table border=\"1\" class=\"dataframe\">\n",
       "  <thead>\n",
       "    <tr style=\"text-align: right;\">\n",
       "      <th></th>\n",
       "      <th>title</th>\n",
       "      <th>comment</th>\n",
       "      <th>bias</th>\n",
       "      <th>hate</th>\n",
       "    </tr>\n",
       "  </thead>\n",
       "  <tbody>\n",
       "    <tr>\n",
       "      <th>0</th>\n",
       "      <td>\"'미스터 샤인션' 변요한, 김태리와 같은 양복 입고 학당 방문! 이유는?\"</td>\n",
       "      <td>김태리 정말 연기잘해 진짜</td>\n",
       "      <td>none</td>\n",
       "      <td>none</td>\n",
       "    </tr>\n",
       "    <tr>\n",
       "      <th>1</th>\n",
       "      <td>\"[SC현장]\"\"극사실주의 현실♥\"\"…'가장 보통의 연애' 김래원X공효진, 16년만...</td>\n",
       "      <td>공효진 발연기나이질생각이읍던데 왜계속주연일까</td>\n",
       "      <td>none</td>\n",
       "      <td>hate</td>\n",
       "    </tr>\n",
       "    <tr>\n",
       "      <th>2</th>\n",
       "      <td>\"손연재, 리듬체조 학원 선생님 \"\"하고 싶은 일 해서 행복하다\"\"\"</td>\n",
       "      <td>누구처럼 돈만 밝히는 저급인생은 살아가지마시길~~ 행복은 머니순이 아니니깐 작은거에...</td>\n",
       "      <td>others</td>\n",
       "      <td>hate</td>\n",
       "    </tr>\n",
       "    <tr>\n",
       "      <th>3</th>\n",
       "      <td>\"'섹션TV' 김해숙 \"\"'허스토리' 촬영 후 우울증 얻었다\"\"\"</td>\n",
       "      <td>일본 축구 져라</td>\n",
       "      <td>none</td>\n",
       "      <td>none</td>\n",
       "    </tr>\n",
       "    <tr>\n",
       "      <th>4</th>\n",
       "      <td>\"[단독] 임현주 아나운서 “‘노브라 챌린지’ 방송 덕에 낸 용기, 자연스런 논의의...</td>\n",
       "      <td>난 절대로 임현주 욕하는인간이랑은 안논다 @.@</td>\n",
       "      <td>none</td>\n",
       "      <td>none</td>\n",
       "    </tr>\n",
       "    <tr>\n",
       "      <th>...</th>\n",
       "      <td>...</td>\n",
       "      <td>...</td>\n",
       "      <td>...</td>\n",
       "      <td>...</td>\n",
       "    </tr>\n",
       "    <tr>\n",
       "      <th>8362</th>\n",
       "      <td>\"배우 이필립, SNS 스타 연인에게 초호화 프러포즈 눈길\"</td>\n",
       "      <td>아니 근데.튜닝한사람은 프러포즈받지도.결혼도못함?ㅋㅋㅋ지들은 돈없어서 못하는것들이ㅋ...</td>\n",
       "      <td>others</td>\n",
       "      <td>hate</td>\n",
       "    </tr>\n",
       "    <tr>\n",
       "      <th>8363</th>\n",
       "      <td>\"[SC이슈]\"\"마약·백스텝·김새롬 탓\"\" '실형 피한' 이찬오, 이미지는 치명상(...</td>\n",
       "      <td>그러니깐 여자를 잘만나야되~징글징글한것들 만나면 인생 끝가지 돌아가게 되는듯.. 근...</td>\n",
       "      <td>gender</td>\n",
       "      <td>hate</td>\n",
       "    </tr>\n",
       "    <tr>\n",
       "      <th>8364</th>\n",
       "      <td>\"[POP이슈]\"\"그들만의 세상\"\"…홍상수♥김민희, 새해데이트에 '반응싸늘'\"</td>\n",
       "      <td>참으로 아름다운 커플입니다. 늘 행복하시고 새해에도 늘 꽃길만 걸으시길 축원합니다 ...</td>\n",
       "      <td>none</td>\n",
       "      <td>none</td>\n",
       "    </tr>\n",
       "    <tr>\n",
       "      <th>8365</th>\n",
       "      <td>[종합] '시크릿 마더' 김소연 누가 죽였나…송윤아와 갈등</td>\n",
       "      <td>재미가 없어요</td>\n",
       "      <td>none</td>\n",
       "      <td>none</td>\n",
       "    </tr>\n",
       "    <tr>\n",
       "      <th>8366</th>\n",
       "      <td>\"허지웅·소속사 \"\"악성림프종 진단, 치료 전념\"\" (공식)\"</td>\n",
       "      <td>쭉 쉬세요</td>\n",
       "      <td>none</td>\n",
       "      <td>hate</td>\n",
       "    </tr>\n",
       "  </tbody>\n",
       "</table>\n",
       "<p>8367 rows × 4 columns</p>\n",
       "</div>"
      ],
      "text/plain": [
       "                                                  title  \\\n",
       "0            \"'미스터 샤인션' 변요한, 김태리와 같은 양복 입고 학당 방문! 이유는?\"   \n",
       "1     \"[SC현장]\"\"극사실주의 현실♥\"\"…'가장 보통의 연애' 김래원X공효진, 16년만...   \n",
       "2                \"손연재, 리듬체조 학원 선생님 \"\"하고 싶은 일 해서 행복하다\"\"\"   \n",
       "3                  \"'섹션TV' 김해숙 \"\"'허스토리' 촬영 후 우울증 얻었다\"\"\"   \n",
       "4     \"[단독] 임현주 아나운서 “‘노브라 챌린지’ 방송 덕에 낸 용기, 자연스런 논의의...   \n",
       "...                                                 ...   \n",
       "8362                  \"배우 이필립, SNS 스타 연인에게 초호화 프러포즈 눈길\"   \n",
       "8363  \"[SC이슈]\"\"마약·백스텝·김새롬 탓\"\" '실형 피한' 이찬오, 이미지는 치명상(...   \n",
       "8364        \"[POP이슈]\"\"그들만의 세상\"\"…홍상수♥김민희, 새해데이트에 '반응싸늘'\"   \n",
       "8365                   [종합] '시크릿 마더' 김소연 누가 죽였나…송윤아와 갈등   \n",
       "8366                 \"허지웅·소속사 \"\"악성림프종 진단, 치료 전념\"\" (공식)\"   \n",
       "\n",
       "                                                comment    bias  hate  \n",
       "0                                        김태리 정말 연기잘해 진짜    none  none  \n",
       "1                              공효진 발연기나이질생각이읍던데 왜계속주연일까    none  hate  \n",
       "2     누구처럼 돈만 밝히는 저급인생은 살아가지마시길~~ 행복은 머니순이 아니니깐 작은거에...  others  hate  \n",
       "3                                              일본 축구 져라    none  none  \n",
       "4                            난 절대로 임현주 욕하는인간이랑은 안논다 @.@    none  none  \n",
       "...                                                 ...     ...   ...  \n",
       "8362  아니 근데.튜닝한사람은 프러포즈받지도.결혼도못함?ㅋㅋㅋ지들은 돈없어서 못하는것들이ㅋ...  others  hate  \n",
       "8363  그러니깐 여자를 잘만나야되~징글징글한것들 만나면 인생 끝가지 돌아가게 되는듯.. 근...  gender  hate  \n",
       "8364  참으로 아름다운 커플입니다. 늘 행복하시고 새해에도 늘 꽃길만 걸으시길 축원합니다 ...    none  none  \n",
       "8365                                            재미가 없어요    none  none  \n",
       "8366                                              쭉 쉬세요    none  hate  \n",
       "\n",
       "[8367 rows x 4 columns]"
      ]
     },
     "execution_count": 144,
     "metadata": {},
     "output_type": "execute_result"
    }
   ],
   "source": [
    "train_df = pd.read_csv(\"/USER/3_WEEK/MNC_NLP/train/train.csv\")\n",
    "train_df"
   ]
  },
  {
   "cell_type": "code",
   "execution_count": null,
   "metadata": {},
   "outputs": [],
   "source": [
    "LABEL_DIC = {\n",
    "    'none': 0,\n",
    "    'offensive': 1,\n",
    "    'hate': 2,\n",
    "}\n",
    "LABEL_DIC = {\n",
    "    'none': 0,\n",
    "    'others': 1,\n",
    "    'gender': 2,\n",
    "}"
   ]
  },
  {
   "cell_type": "code",
   "execution_count": null,
   "metadata": {},
   "outputs": [],
   "source": []
  },
  {
   "cell_type": "code",
   "execution_count": 154,
   "metadata": {},
   "outputs": [
    {
     "data": {
      "text/plain": [
       "0    405\n",
       "1    334\n",
       "2    235\n",
       "Name: label, dtype: int64"
      ]
     },
     "execution_count": 154,
     "metadata": {},
     "output_type": "execute_result"
    }
   ],
   "source": [
    "copy_data = pd.read_csv(\"/USER/3_WEEK/MNC_NLP/submission.csv\")\n",
    "copy_data[\"label\"].value_counts()"
   ]
  },
  {
   "cell_type": "code",
   "execution_count": null,
   "metadata": {},
   "outputs": [],
   "source": []
  },
  {
   "cell_type": "code",
   "execution_count": 150,
   "metadata": {},
   "outputs": [
    {
     "name": "stdout",
     "output_type": "stream",
     "text": [
      "둘다 넘 좋다~행복하세요\n"
     ]
    }
   ],
   "source": [
    "for i in range(len(test_df)):\n",
    "    print(test_df.iloc[i][\"comment\"])\n",
    "    break\n",
    "    if \"둘다 넘 좋다~행복하세요\" in train_df.iloc[i][\"comment\"]:\n",
    "        print(i)\n",
    "        break"
   ]
  },
  {
   "cell_type": "code",
   "execution_count": 63,
   "metadata": {},
   "outputs": [
    {
     "data": {
      "text/html": [
       "<div>\n",
       "<style scoped>\n",
       "    .dataframe tbody tr th:only-of-type {\n",
       "        vertical-align: middle;\n",
       "    }\n",
       "\n",
       "    .dataframe tbody tr th {\n",
       "        vertical-align: top;\n",
       "    }\n",
       "\n",
       "    .dataframe thead th {\n",
       "        text-align: right;\n",
       "    }\n",
       "</style>\n",
       "<table border=\"1\" class=\"dataframe\">\n",
       "  <thead>\n",
       "    <tr style=\"text-align: right;\">\n",
       "      <th></th>\n",
       "      <th>content\\tlable</th>\n",
       "    </tr>\n",
       "  </thead>\n",
       "  <tbody>\n",
       "    <tr>\n",
       "      <th>0</th>\n",
       "      <td>이종석 한효주 나오는 드라마 이후로 드라마 안봤다. 2년전인가?? 좀 신선했었지. ...</td>\n",
       "    </tr>\n",
       "    <tr>\n",
       "      <th>1</th>\n",
       "      <td>씨바알..노무노무 술프노... 오늘 저녁은 꽂등심이다ㅠㅜ\\t0</td>\n",
       "    </tr>\n",
       "    <tr>\n",
       "      <th>2</th>\n",
       "      <td>짱깨 꺼라ㅡ패쓰\\t0</td>\n",
       "    </tr>\n",
       "    <tr>\n",
       "      <th>3</th>\n",
       "      <td>그들의 사생활 ~ 고인이된 설리를 위해서라도 모두 조용하길 지금 누굴 탓한다고 무슨...</td>\n",
       "    </tr>\n",
       "    <tr>\n",
       "      <th>4</th>\n",
       "      <td>아무리 법이 뭣같아도 무슨 자격으로 개인의 신상정보를 불특정 다수에게 공개하는지 도...</td>\n",
       "    </tr>\n",
       "    <tr>\n",
       "      <th>...</th>\n",
       "      <td>...</td>\n",
       "    </tr>\n",
       "    <tr>\n",
       "      <th>9995</th>\n",
       "      <td>이거 보다 더한 막장의 드라마도 넋놓고 보면서 무슨?\\t1</td>\n",
       "    </tr>\n",
       "    <tr>\n",
       "      <th>9996</th>\n",
       "      <td>머...제네시스..올라프에디션?\\t1</td>\n",
       "    </tr>\n",
       "    <tr>\n",
       "      <th>9997</th>\n",
       "      <td>항상 여자로 ㅡ ㅡ 저지랄 들이야 남자들 벗겨봐라\\t0</td>\n",
       "    </tr>\n",
       "    <tr>\n",
       "      <th>9998</th>\n",
       "      <td>첫번째 이유가 ㄹㅇ 맞지특히나 뉴스나 기사 몇줄읽은 학생들끼리 대화해도 서로 존나 ...</td>\n",
       "    </tr>\n",
       "    <tr>\n",
       "      <th>9999</th>\n",
       "      <td>Lg폰 누가쓰냐 gps도 못잡는폰 쓰래기 통에나 버려라\\t0</td>\n",
       "    </tr>\n",
       "  </tbody>\n",
       "</table>\n",
       "<p>10000 rows × 1 columns</p>\n",
       "</div>"
      ],
      "text/plain": [
       "                                         content\\tlable\n",
       "0     이종석 한효주 나오는 드라마 이후로 드라마 안봤다. 2년전인가?? 좀 신선했었지. ...\n",
       "1                    씨바알..노무노무 술프노... 오늘 저녁은 꽂등심이다ㅠㅜ\\t0\n",
       "2                                           짱깨 꺼라ㅡ패쓰\\t0\n",
       "3     그들의 사생활 ~ 고인이된 설리를 위해서라도 모두 조용하길 지금 누굴 탓한다고 무슨...\n",
       "4     아무리 법이 뭣같아도 무슨 자격으로 개인의 신상정보를 불특정 다수에게 공개하는지 도...\n",
       "...                                                 ...\n",
       "9995                   이거 보다 더한 막장의 드라마도 넋놓고 보면서 무슨?\\t1\n",
       "9996                               머...제네시스..올라프에디션?\\t1\n",
       "9997                     항상 여자로 ㅡ ㅡ 저지랄 들이야 남자들 벗겨봐라\\t0\n",
       "9998  첫번째 이유가 ㄹㅇ 맞지특히나 뉴스나 기사 몇줄읽은 학생들끼리 대화해도 서로 존나 ...\n",
       "9999                  Lg폰 누가쓰냐 gps도 못잡는폰 쓰래기 통에나 버려라\\t0\n",
       "\n",
       "[10000 rows x 1 columns]"
      ]
     },
     "execution_count": 63,
     "metadata": {},
     "output_type": "execute_result"
    }
   ],
   "source": [
    "train_df2 = pd.read_csv(\"/USER/3_WEEK/MNC_NLP/train/Dataset.csv\")\n",
    "train_df2"
   ]
  },
  {
   "cell_type": "code",
   "execution_count": 21,
   "metadata": {},
   "outputs": [
    {
     "name": "stdout",
     "output_type": "stream",
     "text": [
      "classes of bias :  ['none' 'others' 'gender']\n",
      "classes od hate :  ['none' 'hate']\n"
     ]
    }
   ],
   "source": [
    "print(\"classes of bias : \",df_train[\"bias\"].unique())\n",
    "print(\"classes od hate : \",df_train[\"hate\"].unique())"
   ]
  },
  {
   "cell_type": "code",
   "execution_count": 22,
   "metadata": {},
   "outputs": [
    {
     "data": {
      "text/html": [
       "<div>\n",
       "<style scoped>\n",
       "    .dataframe tbody tr th:only-of-type {\n",
       "        vertical-align: middle;\n",
       "    }\n",
       "\n",
       "    .dataframe tbody tr th {\n",
       "        vertical-align: top;\n",
       "    }\n",
       "\n",
       "    .dataframe thead th {\n",
       "        text-align: right;\n",
       "    }\n",
       "</style>\n",
       "<table border=\"1\" class=\"dataframe\">\n",
       "  <thead>\n",
       "    <tr style=\"text-align: right;\">\n",
       "      <th>hate</th>\n",
       "      <th>hate</th>\n",
       "      <th>none</th>\n",
       "      <th>All</th>\n",
       "    </tr>\n",
       "    <tr>\n",
       "      <th>bias</th>\n",
       "      <th></th>\n",
       "      <th></th>\n",
       "      <th></th>\n",
       "    </tr>\n",
       "  </thead>\n",
       "  <tbody>\n",
       "    <tr>\n",
       "      <th>gender</th>\n",
       "      <td>1216</td>\n",
       "      <td>83</td>\n",
       "      <td>1299</td>\n",
       "    </tr>\n",
       "    <tr>\n",
       "      <th>none</th>\n",
       "      <td>2068</td>\n",
       "      <td>3422</td>\n",
       "      <td>5490</td>\n",
       "    </tr>\n",
       "    <tr>\n",
       "      <th>others</th>\n",
       "      <td>1437</td>\n",
       "      <td>141</td>\n",
       "      <td>1578</td>\n",
       "    </tr>\n",
       "    <tr>\n",
       "      <th>All</th>\n",
       "      <td>4721</td>\n",
       "      <td>3646</td>\n",
       "      <td>8367</td>\n",
       "    </tr>\n",
       "  </tbody>\n",
       "</table>\n",
       "</div>"
      ],
      "text/plain": [
       "hate    hate  none   All\n",
       "bias                    \n",
       "gender  1216    83  1299\n",
       "none    2068  3422  5490\n",
       "others  1437   141  1578\n",
       "All     4721  3646  8367"
      ]
     },
     "execution_count": 22,
     "metadata": {},
     "output_type": "execute_result"
    }
   ],
   "source": [
    "pd.crosstab(df_train.bias, df_train.hate, margins=True)"
   ]
  },
  {
   "cell_type": "code",
   "execution_count": 19,
   "metadata": {},
   "outputs": [],
   "source": [
    "bias = dict(df_train[\"bias\"].value_counts())\n",
    "hate = dict(df_train[\"hate\"].value_counts())"
   ]
  },
  {
   "cell_type": "code",
   "execution_count": 20,
   "metadata": {},
   "outputs": [
    {
     "data": {
      "text/plain": [
       "({'none': 5490, 'others': 1578, 'gender': 1299}, {'hate': 4721, 'none': 3646})"
      ]
     },
     "execution_count": 20,
     "metadata": {},
     "output_type": "execute_result"
    }
   ],
   "source": [
    "bias, hate"
   ]
  },
  {
   "cell_type": "code",
   "execution_count": null,
   "metadata": {},
   "outputs": [],
   "source": []
  },
  {
   "cell_type": "code",
   "execution_count": null,
   "metadata": {},
   "outputs": [],
   "source": []
  },
  {
   "cell_type": "code",
   "execution_count": null,
   "metadata": {},
   "outputs": [],
   "source": []
  },
  {
   "cell_type": "code",
   "execution_count": 147,
   "metadata": {},
   "outputs": [
    {
     "data": {
      "text/html": [
       "<div>\n",
       "<style scoped>\n",
       "    .dataframe tbody tr th:only-of-type {\n",
       "        vertical-align: middle;\n",
       "    }\n",
       "\n",
       "    .dataframe tbody tr th {\n",
       "        vertical-align: top;\n",
       "    }\n",
       "\n",
       "    .dataframe thead th {\n",
       "        text-align: right;\n",
       "    }\n",
       "</style>\n",
       "<table border=\"1\" class=\"dataframe\">\n",
       "  <thead>\n",
       "    <tr style=\"text-align: right;\">\n",
       "      <th></th>\n",
       "      <th>ID</th>\n",
       "      <th>title</th>\n",
       "      <th>comment</th>\n",
       "    </tr>\n",
       "  </thead>\n",
       "  <tbody>\n",
       "    <tr>\n",
       "      <th>0</th>\n",
       "      <td>0</td>\n",
       "      <td>류현경♥︎박성훈, 공개연애 4년차 애정전선 이상無..\"의지 많이 된다\"[종합]</td>\n",
       "      <td>둘다 넘 좋다~행복하세요</td>\n",
       "    </tr>\n",
       "    <tr>\n",
       "      <th>1</th>\n",
       "      <td>1</td>\n",
       "      <td>\"현금 유도+1인 1라면?\"…'골목식당' 백종원, 초심 잃은 도시락집에 '경악' [종합]</td>\n",
       "      <td>근데 만원이하는 현금결제만 하라고 써놓은집 우리나라에 엄청 많은데</td>\n",
       "    </tr>\n",
       "    <tr>\n",
       "      <th>2</th>\n",
       "      <td>2</td>\n",
       "      <td>입대 D-11' 서은광의 슬픈 멜로디..비투비, 눈물의 첫 체조경기장[콘서트 종합]</td>\n",
       "      <td>누군데 얘네?</td>\n",
       "    </tr>\n",
       "    <tr>\n",
       "      <th>3</th>\n",
       "      <td>3</td>\n",
       "      <td>아이콘택트' 리쌍 길, 3년 전 결혼설 부인한 이유 공개…\"결혼,출산 숨겼다\"</td>\n",
       "      <td>쑈 하지마라 짜식아!음주 1번은 실수, 2번은 고의, 3번은 인간쓰레기다.슬금슬금 ...</td>\n",
       "    </tr>\n",
       "    <tr>\n",
       "      <th>4</th>\n",
       "      <td>4</td>\n",
       "      <td>구하라, 안검하수 반박 해프닝...\"당당하다\"vs\"그렇게까지\" 설전 [종합]</td>\n",
       "      <td>안검하수 가지고 있는 분께 희망을 주고 싶은건가요? 수술하면 이렇게 자연스러워진다고...</td>\n",
       "    </tr>\n",
       "    <tr>\n",
       "      <th>...</th>\n",
       "      <td>...</td>\n",
       "      <td>...</td>\n",
       "      <td>...</td>\n",
       "    </tr>\n",
       "    <tr>\n",
       "      <th>506</th>\n",
       "      <td>506</td>\n",
       "      <td>[N이슈] 최율, 조재현 성추행 의혹 폭로… 소속사 \"상황 파악 중\"</td>\n",
       "      <td>얜 그냥 봐도 아니다 ㅋ 고소당하면 어마어마한 금액 물어줘야할껄?</td>\n",
       "    </tr>\n",
       "    <tr>\n",
       "      <th>507</th>\n",
       "      <td>507</td>\n",
       "      <td>해투4' 이서진, 한지민 '대본 리딩 격리설' 해명…\"날씨가 좋아서\" [SC컷]</td>\n",
       "      <td>대박 게스트... 꼭 봐야징~ 컨셉이 바뀌니깐 재미지넹</td>\n",
       "    </tr>\n",
       "    <tr>\n",
       "      <th>508</th>\n",
       "      <td>508</td>\n",
       "      <td>[SS인터뷰①]박민영 \"'김비서' 행복했다..열애설엔 당당..미소였으니까\"</td>\n",
       "      <td>성형으로 다 뜯어고쳐놓고 예쁜척. 성형 전 니 얼굴 다 알고있다. 순자처럼 된장냄새...</td>\n",
       "    </tr>\n",
       "    <tr>\n",
       "      <th>509</th>\n",
       "      <td>509</td>\n",
       "      <td>[POP이슈]\"사실무근\" 'SKY캐슬' 측 '위올라이' 표절설 부인→여전히 '핫'(종합)</td>\n",
       "      <td>분위기는 비슷하다만 전혀다른 전개던데 무슨ㅋㅋㄱ 우리나라사람들은 분위기만 비슷하면 ...</td>\n",
       "    </tr>\n",
       "    <tr>\n",
       "      <th>510</th>\n",
       "      <td>510</td>\n",
       "      <td>오창석♥' 이채은, 웨딩사진?...순백의 드레스 입고 '활짝'</td>\n",
       "      <td>입에 손가릭이 10개 있으니 징그럽다</td>\n",
       "    </tr>\n",
       "  </tbody>\n",
       "</table>\n",
       "<p>511 rows × 3 columns</p>\n",
       "</div>"
      ],
      "text/plain": [
       "      ID                                              title  \\\n",
       "0      0        류현경♥︎박성훈, 공개연애 4년차 애정전선 이상無..\"의지 많이 된다\"[종합]   \n",
       "1      1  \"현금 유도+1인 1라면?\"…'골목식당' 백종원, 초심 잃은 도시락집에 '경악' [종합]   \n",
       "2      2     입대 D-11' 서은광의 슬픈 멜로디..비투비, 눈물의 첫 체조경기장[콘서트 종합]   \n",
       "3      3        아이콘택트' 리쌍 길, 3년 전 결혼설 부인한 이유 공개…\"결혼,출산 숨겼다\"   \n",
       "4      4         구하라, 안검하수 반박 해프닝...\"당당하다\"vs\"그렇게까지\" 설전 [종합]   \n",
       "..   ...                                                ...   \n",
       "506  506             [N이슈] 최율, 조재현 성추행 의혹 폭로… 소속사 \"상황 파악 중\"   \n",
       "507  507       해투4' 이서진, 한지민 '대본 리딩 격리설' 해명…\"날씨가 좋아서\" [SC컷]   \n",
       "508  508          [SS인터뷰①]박민영 \"'김비서' 행복했다..열애설엔 당당..미소였으니까\"   \n",
       "509  509  [POP이슈]\"사실무근\" 'SKY캐슬' 측 '위올라이' 표절설 부인→여전히 '핫'(종합)   \n",
       "510  510                 오창석♥' 이채은, 웨딩사진?...순백의 드레스 입고 '활짝'   \n",
       "\n",
       "                                               comment  \n",
       "0                                        둘다 넘 좋다~행복하세요  \n",
       "1                 근데 만원이하는 현금결제만 하라고 써놓은집 우리나라에 엄청 많은데  \n",
       "2                                              누군데 얘네?  \n",
       "3    쑈 하지마라 짜식아!음주 1번은 실수, 2번은 고의, 3번은 인간쓰레기다.슬금슬금 ...  \n",
       "4    안검하수 가지고 있는 분께 희망을 주고 싶은건가요? 수술하면 이렇게 자연스러워진다고...  \n",
       "..                                                 ...  \n",
       "506               얜 그냥 봐도 아니다 ㅋ 고소당하면 어마어마한 금액 물어줘야할껄?  \n",
       "507                     대박 게스트... 꼭 봐야징~ 컨셉이 바뀌니깐 재미지넹  \n",
       "508  성형으로 다 뜯어고쳐놓고 예쁜척. 성형 전 니 얼굴 다 알고있다. 순자처럼 된장냄새...  \n",
       "509  분위기는 비슷하다만 전혀다른 전개던데 무슨ㅋㅋㄱ 우리나라사람들은 분위기만 비슷하면 ...  \n",
       "510                               입에 손가릭이 10개 있으니 징그럽다  \n",
       "\n",
       "[511 rows x 3 columns]"
      ]
     },
     "execution_count": 147,
     "metadata": {},
     "output_type": "execute_result"
    }
   ],
   "source": [
    "test_df = pd.read_csv(\"/USER/3_WEEK/MNC_NLP/test/test.csv\")\n",
    "test_df"
   ]
  },
  {
   "cell_type": "markdown",
   "metadata": {},
   "source": [
    "![image](https://cdn.discordapp.com/attachments/940518751974080532/946592587886772304/2022-02-25_11.20.55.png)"
   ]
  },
  {
   "cell_type": "code",
   "execution_count": 27,
   "metadata": {},
   "outputs": [
    {
     "name": "stdout",
     "output_type": "stream",
     "text": [
      "[['none' 'none']\n",
      " ['none' 'hate']\n",
      " ['others' 'none']\n",
      " ['others' 'hate']\n",
      " ['gender' 'none']\n",
      " ['gender' 'hate']]\n"
     ]
    }
   ],
   "source": [
    "# 두 라벨의 가능한 모든 조합 만들기\n",
    "combinations = np.array(np.meshgrid(train_df.bias.unique(), train_df.hate.unique())).T.reshape(-1,2)\n",
    "\n",
    "print(combinations)"
   ]
  },
  {
   "cell_type": "code",
   "execution_count": 42,
   "metadata": {},
   "outputs": [
    {
     "name": "stdout",
     "output_type": "stream",
     "text": [
      "[array(['none', 'none'], dtype=object), array(['none', 'hate'], dtype=object), array(['others', 'hate'], dtype=object), array(['none', 'none'], dtype=object), array(['none', 'none'], dtype=object)]\n",
      "8367\n",
      "8367\n"
     ]
    }
   ],
   "source": [
    "# bias, hate 컬럼을 합친 것\n",
    "bias_hate = list(np.array([train_df['bias'].values, train_df['hate'].values]).T.reshape(-1,2))\n",
    "\n",
    "print(bias_hate[:5])\n",
    "print(len(bias_hate))\n",
    "print(len(train_df))"
   ]
  },
  {
   "cell_type": "code",
   "execution_count": 29,
   "metadata": {},
   "outputs": [
    {
     "data": {
      "text/html": [
       "<div>\n",
       "<style scoped>\n",
       "    .dataframe tbody tr th:only-of-type {\n",
       "        vertical-align: middle;\n",
       "    }\n",
       "\n",
       "    .dataframe tbody tr th {\n",
       "        vertical-align: top;\n",
       "    }\n",
       "\n",
       "    .dataframe thead th {\n",
       "        text-align: right;\n",
       "    }\n",
       "</style>\n",
       "<table border=\"1\" class=\"dataframe\">\n",
       "  <thead>\n",
       "    <tr style=\"text-align: right;\">\n",
       "      <th></th>\n",
       "      <th>title</th>\n",
       "      <th>comment</th>\n",
       "      <th>bias</th>\n",
       "      <th>hate</th>\n",
       "      <th>label</th>\n",
       "    </tr>\n",
       "  </thead>\n",
       "  <tbody>\n",
       "    <tr>\n",
       "      <th>0</th>\n",
       "      <td>\"'미스터 샤인션' 변요한, 김태리와 같은 양복 입고 학당 방문! 이유는?\"</td>\n",
       "      <td>김태리 정말 연기잘해 진짜</td>\n",
       "      <td>none</td>\n",
       "      <td>none</td>\n",
       "      <td>0</td>\n",
       "    </tr>\n",
       "    <tr>\n",
       "      <th>1</th>\n",
       "      <td>\"[SC현장]\"\"극사실주의 현실♥\"\"…'가장 보통의 연애' 김래원X공효진, 16년만...</td>\n",
       "      <td>공효진 발연기나이질생각이읍던데 왜계속주연일까</td>\n",
       "      <td>none</td>\n",
       "      <td>hate</td>\n",
       "      <td>1</td>\n",
       "    </tr>\n",
       "    <tr>\n",
       "      <th>2</th>\n",
       "      <td>\"손연재, 리듬체조 학원 선생님 \"\"하고 싶은 일 해서 행복하다\"\"\"</td>\n",
       "      <td>누구처럼 돈만 밝히는 저급인생은 살아가지마시길~~ 행복은 머니순이 아니니깐 작은거에...</td>\n",
       "      <td>others</td>\n",
       "      <td>hate</td>\n",
       "      <td>3</td>\n",
       "    </tr>\n",
       "    <tr>\n",
       "      <th>3</th>\n",
       "      <td>\"'섹션TV' 김해숙 \"\"'허스토리' 촬영 후 우울증 얻었다\"\"\"</td>\n",
       "      <td>일본 축구 져라</td>\n",
       "      <td>none</td>\n",
       "      <td>none</td>\n",
       "      <td>0</td>\n",
       "    </tr>\n",
       "    <tr>\n",
       "      <th>4</th>\n",
       "      <td>\"[단독] 임현주 아나운서 “‘노브라 챌린지’ 방송 덕에 낸 용기, 자연스런 논의의...</td>\n",
       "      <td>난 절대로 임현주 욕하는인간이랑은 안논다 @.@</td>\n",
       "      <td>none</td>\n",
       "      <td>none</td>\n",
       "      <td>0</td>\n",
       "    </tr>\n",
       "  </tbody>\n",
       "</table>\n",
       "</div>"
      ],
      "text/plain": [
       "                                               title  \\\n",
       "0         \"'미스터 샤인션' 변요한, 김태리와 같은 양복 입고 학당 방문! 이유는?\"   \n",
       "1  \"[SC현장]\"\"극사실주의 현실♥\"\"…'가장 보통의 연애' 김래원X공효진, 16년만...   \n",
       "2             \"손연재, 리듬체조 학원 선생님 \"\"하고 싶은 일 해서 행복하다\"\"\"   \n",
       "3               \"'섹션TV' 김해숙 \"\"'허스토리' 촬영 후 우울증 얻었다\"\"\"   \n",
       "4  \"[단독] 임현주 아나운서 “‘노브라 챌린지’ 방송 덕에 낸 용기, 자연스런 논의의...   \n",
       "\n",
       "                                             comment    bias  hate  label  \n",
       "0                                     김태리 정말 연기잘해 진짜    none  none      0  \n",
       "1                           공효진 발연기나이질생각이읍던데 왜계속주연일까    none  hate      1  \n",
       "2  누구처럼 돈만 밝히는 저급인생은 살아가지마시길~~ 행복은 머니순이 아니니깐 작은거에...  others  hate      3  \n",
       "3                                           일본 축구 져라    none  none      0  \n",
       "4                         난 절대로 임현주 욕하는인간이랑은 안논다 @.@    none  none      0  "
      ]
     },
     "execution_count": 29,
     "metadata": {},
     "output_type": "execute_result"
    }
   ],
   "source": [
    "labels = []\n",
    "for i, arr in enumerate(bias_hate):\n",
    "    for idx, elem in enumerate(combinations):\n",
    "        if np.array_equal(elem, arr):\n",
    "            labels.append(idx)\n",
    "\n",
    "train_df['label'] = labels\n",
    "train_df.head()"
   ]
  },
  {
   "cell_type": "code",
   "execution_count": null,
   "metadata": {},
   "outputs": [],
   "source": []
  },
  {
   "cell_type": "code",
   "execution_count": 142,
   "metadata": {},
   "outputs": [
    {
     "name": "stdout",
     "output_type": "stream",
     "text": [
      "0 ['none' 'none']\n",
      "1 ['none' 'hate']\n",
      "2 ['others' 'none']\n",
      "3 ['others' 'hate']\n",
      "4 ['gender' 'none']\n",
      "5 ['gender' 'hate']\n"
     ]
    },
    {
     "data": {
      "image/png": "[encoded data removed]",
      "text/plain": [
       "<Figure size 720x540 with 1 Axes>"
      ]
     },
     "metadata": {
      "needs_background": "light"
     },
     "output_type": "display_data"
    }
   ],
   "source": [
    "feature = train_df['label']\n",
    "\n",
    "plt.figure(figsize=(10,7.5))\n",
    "plt.title('Train dataset', fontsize=20)\n",
    "\n",
    "temp = feature.value_counts()\n",
    "\n",
    "font1 = {\n",
    "    'color':  'red',\n",
    "    'weight': 'bold',\n",
    "    'size': 17,\n",
    "}\n",
    "# print(type(temp))\n",
    "# temp = dict(temp)\n",
    "# print(temp)\n",
    "for idx, line in enumerate(combinations):\n",
    "    print(idx,line)\n",
    "plt.bar(temp.keys(), temp.values, width=0.5, color='b', alpha=0.5)\n",
    "\n",
    "plt.text(-0.05, temp.values[0]+20, s=temp.values[0],fontdict=font1)\n",
    "plt.text(0.95, temp.values[1]+20, s=temp.values[1],fontdict=font1)\n",
    "plt.text(1.95, temp.values[4]+20, s=temp.values[4],fontdict=font1)\n",
    "plt.text(2.95, temp.values[2]+20, s=temp.values[2],fontdict=font1)\n",
    "plt.text(3.95, temp.values[5]+20, s=temp.values[5],fontdict=font1)\n",
    "plt.text(4.95, temp.values[3]+20, s=temp.values[3],fontdict=font1)\n",
    "\n",
    "plt.xticks(temp.keys(), fontsize=12) # x축 값, 폰트 크기 설정\n",
    "plt.tight_layout(rect=[0, 0.03, 1, 0.95]) # 레이아웃 설정\n",
    "plt.show() # 그래프 나타내기"
   ]
  },
  {
   "cell_type": "code",
   "execution_count": 128,
   "metadata": {},
   "outputs": [
    {
     "name": "stdout",
     "output_type": "stream",
     "text": [
      "여자는 얼굴보다 요리실력. 근데 얼굴도 이쁘심.\n",
      "남자가 얼마나 속상했으면 저럴까... 같은 잘생기고 멋진 남자로서 이해한다\n",
      "역시 여자는 나이가 깡패다 깡패 .\n",
      "전현무 KBS전 아나운서, 진짜 부럽다 92년생 나이차도 한창나는 여친이라니\n",
      "조민기 안테 피해당했다는데 실체는 없구만..피해자가 직접나서서 고소한것도 아니고 온통 찌라시만 가득.. 저렇게 외도 했다고 하는데 아내가 저럴정도로 애정했을까? 라는 의문투성이.\n",
      "저렇게 눈큰 여자는 눈작은남자를 좋아한다 눈작은남자가 잘생겨보인다 내가그렇다\n",
      "여자들이 지금 이때다하고 욕하는중 ㅋㅋㅋ\n",
      "여자가 아깝지\n",
      "솔직히 시집잘갔잖아부럽긴하지\n",
      "임신만 안하면 속도위반이 아닌건가? 아니면 속도위반은 했지만 단속은 피했다는 것인가? 말도 생각하면서 조심했으면\n",
      "한국여자들이 욕하는걸 보니까 송혜교씨 정말 훌륭한 사람이시네요 응원합니다\n",
      "다들 심심한가봐요 사실일수도 거짓일수도있는거아니예요 그여자 한만디에 모든게사실이 되나요? 오달수씨 불쌍...\n",
      "여자는 역시 널널한 와이셔츠 입었을 때가 제일 좋아.ㅎㅎ 김지원 너무 예쁘다.ㅎㅎ\n",
      "남자가 그럴수도 있지 배포 있네 요즘 세상에\n",
      "처음 본 여자한테 찝적 거렸는데, 여자가 기분 나빳다 ? 이게 죄야 ? 성적 발언을 한 것도 아니고, 상대가 기분이 나쁘면 무조건 피해자로 규정하나 ? 이건 아니지 싶다 ㅋㅋㅋ\n",
      "첫번째 사진 디게 건방지네..남자를 아래로 보는구만\n",
      "여자들도 아무한테나 자기야라고하는사람있는데 그것도성희롱인것같은데요\n",
      "솔직히 아쉬울게 머잇냐오창석정도면 어디가서보기힘든 훈남인데팅기지말고 만나라\n",
      "기센여자랑살려면 바보가되야됨\n",
      "이제 시집좀가자!!!\n",
      "육지담이 응원한다. 스타되니깐 연락안받고 그런건가? 예로부터 조강지처한테 잘해야 한다고했었는데. 아쉽다 . 물론 육지담이 조강지처인지는모르겠으나.\n",
      "그래도 남자로서 부럽네...잘생겨서 항상 인기 많은듯\n",
      "이국주 욕하지마.... 그래도 여자로서 망가지면서 웃긴다는게 얼마나 힘든건데.. 난 박나래가 더 웃겨도 인간적으론 이국주가 더 끌리던데... 이국주도 사람이고 여자야 무조건 욕하지 마라\n",
      "솔직히 남자들 사이에서 저런거 올리면. 욕하기도 그렇고 좀. 가만있게 될거같다. 로이킴은 위에놈들과 같진 않을거같은데. 슈퍼스타k 우승상금 5억 바로 전액 기부하고 좋은놈 같던데. 봐야알겠지만 참. 억울한 사람들도 여럿 나올듯\n",
      "여자의 적은 여자. 여기서 풀메이크업이 왜 나오는데. 풀메이크업한게 죄인가?억울한 장자연은 이렇게 또 묻히는구나.\n",
      "돈많으면 쓰던거 버리고 새것 사야지.. 잘했어 용대야..\n",
      "근데 곽선영 창백한데 모성애 자극하는 연기 목소리도 아나운서 같아서 그런가 난 미나가 제일좋다 미나 바람폈어도 어쩔수없는게 있다고 안아주고싶고 용서해주고싶고 그리고 곽선영 럭셔리하게 예쁘다 굿\n",
      "그분들 몰려오겠네 에휴, 남한테 피해주는것도 아니고 본인이하고싶어서 하는건데 뭐라고들 하지맙시다.\n",
      "조보아 정법나온거 안본 남자있냐?\n",
      "여자들 진짜 질투 개쩌넼ㅋㅋㅋㅋㅋㅋㅋ\n",
      "드뎌 김종국 짝을 만나듯 이제 남자답게 고백만 남았다\n",
      "송혜교가 뭔가 유책사유가 있는건 확실한거같은데 적어도 배우인 여자를 배려했으면...좋겠다....\n",
      "지금으로따지면 뷔+정국 느낌? 당시에 여자들이라면 믹키유천 좋아하긴함ㅋㅋㅋㅋㅋ\n",
      "아직 잘 몰겠음 무슨 속사정이있을듯 넘 맘이아파야 여자하나 잘못만나 그나이에 어째여\n",
      "여자가 저런 말한다는거자체가 얼마나 매력있냐.. 자이언트핑크 매력 더생김..\n",
      "누구랑결혼할지 절세미인이랑 부럽네\n",
      "예쁘다. 이혼녀라도 환영한다\n",
      "딸이 해결해줘야하는거아닌가..엄마잖어\n",
      "여주가있는이유는 마지막은 여자랑되겧ㄴ게원칙인데 ....제발 작가님 제발 ^^ 둘이그냥 다시만나게해줘요제발 ^^\n",
      "화목한 가정 특징 : 마누라가 이쁨\n",
      "에혀 남자망신시키지말아라\n",
      "애초에 결혼할 사람과 성관계 가져라~~\n",
      "홍진영 싫어하는 남자도 있을까\n",
      "한채아가 아깝다 좋다는 남자 많은데\n",
      "김영광 너무좋지만 너무 잘생기고 완벽해서 막상 사귀면 부담스러울꺼같슴 여자들은 확실히 잘생긴남자 싫어하지는않는데 근다고 진지하게 만나보려고 할 마음은 절대없음저부터서도글고 제주위친구들도 그럼\n",
      "일생을 걸만한 녀자들이었길 진심으로 바랍니다~~\n",
      "수영 성격도 진짜 매력있고.. 키크고 이쁘고 여자친구로서 최고일듯\n",
      "이건 아니다 ㅠㅠ진짜 말이되 포르투갈까지 따라온 여자 버린다고??\n",
      "이드라마 아줌마 이외엔 아무도 안보는...\n",
      "왜남자만 뺑이쳐야하는지 참\n",
      "뭐라고해도 보니허니 응원합니다ㅎㅎ진심 잘어울려요~~남자는 직진이다~~한번 사는인생 본승아 가즈아~~~\n",
      "여자가 너무아까움\n",
      "예전에 윤종신도 개소리한 적이 있어서 에디킴 사건에 뜨끔했을 거다. 유희열도 큰 잘못 한 적 있고. 남자들 야동 보는 버릇 때문에 뭐가 잘못인 지도 모르는 놈도 많을 거다\n",
      "25년전이면오달수도 혈기왕성할때인데 그럴수도 있을듯 그리고 이제와서 25년일을 말하는사람도 참 이해못하겠네 혓재에 충실하고 살지 참\n",
      "엥 누군지모르는데.. 남자라서 이렇게 관심받나 ㅋㅋ\n",
      "미투 최대 피해자김생민ᆢ불쌍해\n",
      "화나요는 다 여자가누른듯, , ,,인정하면 up, , ,\n",
      "왕지혜 34살이지만 외모는 인정한다.여자라면 이정도는 되야지\n",
      "장미희ㅜ집에서 일하는 아줌마는 원상탸로 돌려놔라 ... 너무 억지다.! 큰딸은 결국 팀장하고 결혼하겠지만 ... 그 찌질이 남자 엄마행동도 너무 오버다.\n",
      "아들낳고 딸 낳으신 부모들은 딸바보가 될수밖에 없다~~^^;\n",
      "남자가 잘못한거라면... 반성도 없다면...나였다면 ... 여자처럼 아주 못되게 할것같다왜??? 나를 배신한거니까\n",
      "여자들은 왜 윤아를 그렇게 싫어할까요?\n",
      "이상화....너무 급한거 아닌가요? 운동만 하고 바빠서 남자 보는 눈은 있으신가 걱정됨. 강남이 이상한단건 아니구요... 그냥 순진한 아가씨 너무 급한 결정 내리는 것 같아서 걱정입니다...\n",
      "왜 런닝'맨' 이지?? 여자도 있는데 왜 꼭 맨이라고하는건 여성차별적프로그램이라는거야~~ 런닝'피플'로 바꿔라ㅋㅋㅋ\n",
      "이쁘니깐 괜찮아\n",
      "여자분들!!! 솔직히 이던이 친오빠였으면 좋겠죠?\n",
      "그래도 초희 이쁘니까 괜찮아\n",
      "여자 이쁘다.. 저러니 사귀지 부럽다\n",
      "송종국이보이네 ㅋ 역시 남자는 머리빨\n",
      "진짜 천사아닌가... 사람마다 다르지만 부부관계에 있어서 성부분도 엄청 중요한데 그냥 마음하나로..... 요즘 여자들은 좀 배울 필요가 있다고 본다 저런부분이 아닌 전반적인 인성부분에서\n",
      "거 예비며느리가 빚 청산해주구 시부모한테 이쁨좀 받자 ㅋ\n",
      "성매매는 합법화 해야한다\n",
      "아무리 나이가 어려도 남편을 존중해주세요 애기도 태어났는데 남편한데 너 라고 하니 정말 듣기 거북하네요\n",
      "우리나라 남자로 태어나 가장으로 산다는게 고달픔 경제적책임 요즘에는 육아.살림도 도와줘야 됨 ㅠㅠ\n",
      "예쁘네 풋풋하고 서울대까지 나왔으니 최고 신붓감을 전현무가 데려가네\n",
      "이왕이면 딸을 낳았으면좋았을테데 ~이쁜아들이랑 예쁘게사세요\n",
      "멋쪄욤 남편.아빠로써욤\n",
      "한혜진 진짜 성격은 모르겠고 방송이미지는 여자들이 좋아할 성격임 남자들이 볼땐 그냥 친구란 생각밖에 안들고 물론 좋은 성격인거 같긴함 방송 이미지대로라면\n",
      "승리가 뭘 잘못했는지 도저히 모르겠음\n",
      "왜 여자만 항상 독박육아를 해야하는지 모르겠다\n",
      "두 분 권태기없이 이뿌게 사랑하머 아껴주는 모습 보기 좋아요~~사연언니 천상 여자여자~~~♡♡♡\n",
      "최근 본 사회면 기사중에 유.일.하.게. 여성 댓글 비율이 높네\n",
      "여자 연예인들은 참 힘들겠다ㅠㅠ\n",
      "83\n"
     ]
    }
   ],
   "source": [
    "\n",
    "count = 0\n",
    "for i in range(len(train_df)):\n",
    "    if train_df.iloc[i][\"label\"] == 4:\n",
    "        count += 1\n",
    "        print(train_df.iloc[i][\"comment\"])\n",
    "print(count)"
   ]
  },
  {
   "cell_type": "code",
   "execution_count": 129,
   "metadata": {},
   "outputs": [
    {
     "name": "stdout",
     "output_type": "stream",
     "text": [
      "아이는 대부분 엄마가 원해서낳고 독박육아하고남편은 그냥 따라고는 수준!싫은 내색도 못하고 심지어 부담스러워하더라!\n",
      "한동안 곧휴가 즐겁겠구나 부럽다 만석아\n",
      "서울대 이혜성 >>>>>> 넘사 >>>>>>> 동덕여대 한혜진. 전현무도 결혼할 나인데 현명하게 판단한거임\n",
      "여자가 나이 많으면 이혼율 높은거 RG?\n",
      "유명인은 결혼 하다가 이혼하면 재상 반띵 해줘야 하는뎅..그냥 혼자 살면서 20대초 모델이나 레이싱걸들 따먹으면서 사는게 훨 낫지..\n",
      "성질드러운깜둥이년나왓네 이년이 성격만좋앗으면 제1의 한현민이엇을건데\n",
      "세븐걸린거 넌잘피해갓지. ㅋ다 그놈이그놈인데\n",
      "여자들은 왜 똥싸면서 스마트폰으로 페북을보나요?\n",
      "계집이란 어차피 사내의 손을 타게되는것을.. 그리고 사내로 태어나서 계집질도 하는거지. 계집년 한두명때문에 대한민국 영화계 거물하나가 또 사라지는구나!\n",
      "여자들은 반성해라 60넘는 돼지들이여\n",
      "aoa가 걸그룹으로 가치고 있음? ㅋㅋㅋ요즘 아이돌은 20살만 넘어도 늙은거임 ㅋㅋㅋ 아이즈원 장원영 안유진 ITZY 유나같은애들 봐라 17살이니까 존나쩔지 ㅋㅋㅋ여자는 무조건 어린게 최고임\n",
      "돼지뱐태 천생 아줌마 지 어미 닮아 돼지년이지 뭐‼️‼️‼️\n",
      "일본 싫어하면서 일본AV는 ㅈㄴ 좋아하지? 역시 미개한 한국남자들\n",
      "여자 입은 오랄하라고 있는건디...\n",
      "여기 ㅈㄴ웃긴 게 비난하는 욕도 없고 그냥 18키로 찌우다니 대단하다란글밖에 없는데댓글이 찔리는 건지 누가봐도 여자라 그러네그러니까 안 먹어도 되는 욕을 먹는 거다 페미들아\n",
      "솔직히 마약하는것보다 성폭행이 더쪽팔린죄다 빵안에서도 강간범들은 인간취급안한다하더라 ..\n",
      "문제가 많은여자네\n",
      "저거 가정폭력아닌가요? 바람난게 아니라면 뭐가 문제에요? 그냥 이성이랑 대화만해도 막 의심했나 보네;;\n",
      "저 정도 몸매는 길거리에 널리고 널렸지... 그냥 오크돼지줌마들의 워너비 ㅉㅉㅉㅉ\n",
      "송윤형 남자가 너무 하네ㅋㅋㅋㅋㅋ 데이지만 새됐어ㅠㅠㅠㅠㅠ 펜타곤 이던이 남자네ㅋㅋ\n",
      "몇년전 전라디언 냔 먹은적 있는데 아가리엔 똥내,아랫도리는 홍어 장난 아니더구만~~냄새 쩐다 쩌러~~항상 전라디언들은 뒤통수 조심해라\n",
      "제정신아니네 고딩과과계한것도웃기지만 성인이피임도안하나 애는 남자한테줘버리고결혼은하지말았어야지\n",
      "다 그러고 애낳고 키웠고 다 그러고 산다예전에 우리엄마들은 어떻게 애키우며 밭일하고 살았는지...다 본인이 선택한 인생이고 힘든거 이상의 기쁨이 있다기자들도 이런거 퍼날리지말고 발로뛴 기사나 써라\n",
      "기사를 왜케 많이 내. 박보검 이어서 줌냐들 지지층 겁나 단단한듯\n",
      "시집 못가는 여자들 어지간히 부러운갑다\n",
      "송중기 정도면 이쁘고 어리고 똑똑한 여자가 줄을 설텐데.. 돈이야 본인도 충분히 있고.. 굳이 나이 40다되가는 사람이랑 왜 결혼했나 싶다. 그당시 콩깍지가 씌인듯\n",
      "응 니네가왜열폭함 니네는 여자로0.1도안보일텐데 관계없는얘기임\n",
      "38살 되도록 시집못갔으면 뭔가 문제있는 여자 아닌가?? 건모형 그냥 거르세요...상대할 필요도 없어요...\n",
      "전쟁나면 빠쑨이들이 저들 살려달라고 난리치겠네\n",
      "저런곳에 일하는여자가 저런거 당했다고 하루하루 괴롭게 지낸다고?개가 웃겠다ㅋㅋ돈만주면 2차 나가는거 졸 좋아하는 애들 아니냐? 그리고 성매매 업소도 아니라고? 성매매 업소도 성매매 업소라고 안하고 성매매하거든?어이없네\n",
      "권태기 온거 맞네. . 단물 쪽 빨고 버리는듯. .주위에 여자가 많다는거지. Very very dog 임. . 문제는 이런남자를 여자들이 좋아한다는거.\n",
      "구하라 남친이 엄청난 피해자지연옌이라고 얼굴하나 믿고 지가 먼져 꼬셔놓고 ㅉㅉ\n",
      "에로영화 - 처제의 유혹\n",
      "둘다모르지만 남자가 더 아까워보이군요^^ 그리고 한국여자는 거르는게 굿 ㅎ\n",
      "중기야,,, 왜 히필 늙다리한테 물려서,,, ㅠㅠ\n",
      "김갑수와 김태리의 로맨스는 없는 거야 ? 김갑수 나이 되면 남자는 오로지 어리고 예쁜애 생각 뿐인데.\n",
      "윤세아 보면 홍콩여행 보내고 싶다\n",
      "줌마들 밥은 하고 댓글 다나요??\n",
      "요즘은 이혼이 아주 벼슬이야~ 여기 또 이제아마 이상아.황은정 <- 이런여자들 나오겠다. 남자들 입장에선 이렇게 남탓하는 여자들만피해도 인생 반은 성공이지!\n",
      "시집안갈꺼야? 살빼ㅠㅠ 더 예쁠텐데\n",
      "여자들한테 엄청 밉보여서그런듯...사실 장신영은 엄청 응원 해놓고 정겨운은 왜 욕하고~~지들 맘에 안들면 버렇지...이프로 주시청층이 통계나오지??ㅋㄴ\n",
      "주취후 폭력..ㅋㅋㅋ여자도 대단했는갑네 ㅋㅋㅋ\n",
      "요즘 꼬맹쓰들은 툭하면 한남한녀하면서 싸우는데 그러다 결혼은 한국인이랑 결국 할거같은데 그냥 한국남자한국여자 비난하지말구 살어 ㅎㅎ\n",
      "40대 이모라 집중이 안됨... 20살 초반으로좀 캐스팅좀 ㅠㅜㅠㅜ\n",
      "경준아 와이프 말 안들으면 좀 패라\n",
      "계집새끼덜 젖들젖들 봐라~ㅋ 계집새끼 나이가 저 나이대였으면 상폐되어 임신 불구년인디...ㅋ\n",
      "저거 웃기는 녀ㄴ이네 이제와서 언플하냐 아님 머하자는 수작인지\n",
      "송종국이 별로야 김칫년들아 자식 둘 있는 한가정을 깨뜨린 그년은 지 하나로 인해 세명이 피해을 쳐 입었는ㄷ 송종국이만 보고 별로래 김칫뇬들 다 예비 꽃뱀년둘임\n",
      "여자출연자들만 다나오지않음 진짜재밌는프로 장수하길~\n",
      "김태리 넘 안이뻐....코도 낮고 좀 촌스럽게 생김...여주맞기엔 넘......왜이렇게 띄어주고 여기저기 나오지??\n",
      "50\n"
     ]
    }
   ],
   "source": [
    "\n",
    "count = 0\n",
    "for i in range(len(train_df)):\n",
    "    if train_df.iloc[i][\"label\"] == 5:\n",
    "        if count >= 50:\n",
    "            break\n",
    "        print(train_df.iloc[i][\"comment\"])\n",
    "        count += 1\n",
    "print(count)"
   ]
  },
  {
   "cell_type": "code",
   "execution_count": 110,
   "metadata": {},
   "outputs": [
    {
     "name": "stdout",
     "output_type": "stream",
     "text": [
      "[array(['none', 'none'], dtype=object), array(['none', 'none'], dtype=object), array(['none', 'hate'], dtype=object), array(['others', 'hate'], dtype=object), array(['others', 'hate'], dtype=object)]\n",
      "511\n",
      "511\n"
     ]
    }
   ],
   "source": [
    "# bias, hate 컬럼을 합친 것\n",
    "bias_hate = list(np.array([submit['bias'].values, submit['hate'].values]).T.reshape(-1,2))\n",
    "\n",
    "print(bias_hate[:5])\n",
    "print(len(bias_hate))\n",
    "print(len(test_df))"
   ]
  },
  {
   "cell_type": "code",
   "execution_count": 111,
   "metadata": {},
   "outputs": [
    {
     "data": {
      "text/html": [
       "<div>\n",
       "<style scoped>\n",
       "    .dataframe tbody tr th:only-of-type {\n",
       "        vertical-align: middle;\n",
       "    }\n",
       "\n",
       "    .dataframe tbody tr th {\n",
       "        vertical-align: top;\n",
       "    }\n",
       "\n",
       "    .dataframe thead th {\n",
       "        text-align: right;\n",
       "    }\n",
       "</style>\n",
       "<table border=\"1\" class=\"dataframe\">\n",
       "  <thead>\n",
       "    <tr style=\"text-align: right;\">\n",
       "      <th></th>\n",
       "      <th>ID</th>\n",
       "      <th>bias</th>\n",
       "      <th>hate</th>\n",
       "      <th>label</th>\n",
       "    </tr>\n",
       "  </thead>\n",
       "  <tbody>\n",
       "    <tr>\n",
       "      <th>0</th>\n",
       "      <td>0</td>\n",
       "      <td>none</td>\n",
       "      <td>none</td>\n",
       "      <td>0</td>\n",
       "    </tr>\n",
       "    <tr>\n",
       "      <th>1</th>\n",
       "      <td>1</td>\n",
       "      <td>none</td>\n",
       "      <td>none</td>\n",
       "      <td>0</td>\n",
       "    </tr>\n",
       "    <tr>\n",
       "      <th>2</th>\n",
       "      <td>2</td>\n",
       "      <td>none</td>\n",
       "      <td>hate</td>\n",
       "      <td>1</td>\n",
       "    </tr>\n",
       "    <tr>\n",
       "      <th>3</th>\n",
       "      <td>3</td>\n",
       "      <td>others</td>\n",
       "      <td>hate</td>\n",
       "      <td>3</td>\n",
       "    </tr>\n",
       "    <tr>\n",
       "      <th>4</th>\n",
       "      <td>4</td>\n",
       "      <td>others</td>\n",
       "      <td>hate</td>\n",
       "      <td>3</td>\n",
       "    </tr>\n",
       "  </tbody>\n",
       "</table>\n",
       "</div>"
      ],
      "text/plain": [
       "   ID    bias  hate  label\n",
       "0   0    none  none      0\n",
       "1   1    none  none      0\n",
       "2   2    none  hate      1\n",
       "3   3  others  hate      3\n",
       "4   4  others  hate      3"
      ]
     },
     "execution_count": 111,
     "metadata": {},
     "output_type": "execute_result"
    },
    {
     "name": "stdout",
     "output_type": "stream",
     "text": [
      "ERROR! Session/line number was not unique in database. History logging moved to new session 84\n"
     ]
    }
   ],
   "source": [
    "labels = []\n",
    "for i, arr in enumerate(bias_hate):\n",
    "    for idx, elem in enumerate(combinations):\n",
    "        if np.array_equal(elem, arr):\n",
    "            labels.append(idx)\n",
    "\n",
    "submit['label'] = labels\n",
    "submit.head()"
   ]
  },
  {
   "cell_type": "code",
   "execution_count": 125,
   "metadata": {},
   "outputs": [
    {
     "name": "stdout",
     "output_type": "stream",
     "text": [
      "0    171\n",
      "1    152\n",
      "5    100\n",
      "3     88\n",
      "Name: label, dtype: int64\n"
     ]
    },
    {
     "data": {
      "image/png": "[encoded data removed]",
      "text/plain": [
       "<Figure size 720x540 with 1 Axes>"
      ]
     },
     "metadata": {
      "needs_background": "light"
     },
     "output_type": "display_data"
    }
   ],
   "source": [
    "feature = submit['label']\n",
    "\n",
    "plt.figure(figsize=(10,7.5))\n",
    "plt.title('Predicted Test dataset', fontsize=20)\n",
    "\n",
    "temp = feature.value_counts()\n",
    "\n",
    "font1 = {\n",
    "    'color':  'red',\n",
    "    'weight': 'bold',\n",
    "    'size': 17,\n",
    "}\n",
    "# print(type(temp))\n",
    "# temp = dict(temp)\n",
    "print(temp)\n",
    "plt.bar(temp.keys(), temp.values, width=0.5, color='b', alpha=0.5)\n",
    "\n",
    "plt.text(-0.05, temp.values[0]+2, s=temp.values[0],fontdict=font1)\n",
    "plt.text(0.95, temp.values[1]+2, s=temp.values[1],fontdict=font1)\n",
    "plt.text(4.95, temp.values[2]+2, s=temp.values[2],fontdict=font1)\n",
    "plt.text(2.95, temp.values[3]+2, s=temp.values[3],fontdict=font1)\n",
    "# plt.text(3.95, temp.values[5]+20, s=temp.values[5],fontdict=font1)\n",
    "# plt.text(4.95, temp.values[3]+20, s=temp.values[3],fontdict=font1)\n",
    "\n",
    "plt.xticks(temp.keys(), fontsize=12) # x축 값, 폰트 크기 설정\n",
    "plt.tight_layout(rect=[0, 0.03, 1, 0.95]) # 레이아웃 설정\n",
    "plt.show() # 그래프 나타내기"
   ]
  },
  {
   "cell_type": "code",
   "execution_count": 31,
   "metadata": {},
   "outputs": [
    {
     "data": {
      "text/html": [
       "<div>\n",
       "<style scoped>\n",
       "    .dataframe tbody tr th:only-of-type {\n",
       "        vertical-align: middle;\n",
       "    }\n",
       "\n",
       "    .dataframe tbody tr th {\n",
       "        vertical-align: top;\n",
       "    }\n",
       "\n",
       "    .dataframe thead th {\n",
       "        text-align: right;\n",
       "    }\n",
       "</style>\n",
       "<table border=\"1\" class=\"dataframe\">\n",
       "  <thead>\n",
       "    <tr style=\"text-align: right;\">\n",
       "      <th></th>\n",
       "      <th>comment</th>\n",
       "      <th>bias</th>\n",
       "      <th>hate</th>\n",
       "      <th>label</th>\n",
       "    </tr>\n",
       "  </thead>\n",
       "  <tbody>\n",
       "    <tr>\n",
       "      <th>0</th>\n",
       "      <td>김태리 정말 연기잘해 진짜</td>\n",
       "      <td>none</td>\n",
       "      <td>none</td>\n",
       "      <td>0</td>\n",
       "    </tr>\n",
       "    <tr>\n",
       "      <th>1</th>\n",
       "      <td>공효진 발연기나이질생각이읍던데 왜계속주연일까</td>\n",
       "      <td>none</td>\n",
       "      <td>hate</td>\n",
       "      <td>1</td>\n",
       "    </tr>\n",
       "    <tr>\n",
       "      <th>2</th>\n",
       "      <td>누구처럼 돈만 밝히는 저급인생은 살아가지마시길~~ 행복은 머니순이 아니니깐 작은거에...</td>\n",
       "      <td>others</td>\n",
       "      <td>hate</td>\n",
       "      <td>3</td>\n",
       "    </tr>\n",
       "    <tr>\n",
       "      <th>3</th>\n",
       "      <td>일본 축구 져라</td>\n",
       "      <td>none</td>\n",
       "      <td>none</td>\n",
       "      <td>0</td>\n",
       "    </tr>\n",
       "    <tr>\n",
       "      <th>4</th>\n",
       "      <td>난 절대로 임현주 욕하는인간이랑은 안논다 @.@</td>\n",
       "      <td>none</td>\n",
       "      <td>none</td>\n",
       "      <td>0</td>\n",
       "    </tr>\n",
       "  </tbody>\n",
       "</table>\n",
       "</div>"
      ],
      "text/plain": [
       "                                             comment    bias  hate  label\n",
       "0                                     김태리 정말 연기잘해 진짜    none  none      0\n",
       "1                           공효진 발연기나이질생각이읍던데 왜계속주연일까    none  hate      1\n",
       "2  누구처럼 돈만 밝히는 저급인생은 살아가지마시길~~ 행복은 머니순이 아니니깐 작은거에...  others  hate      3\n",
       "3                                           일본 축구 져라    none  none      0\n",
       "4                         난 절대로 임현주 욕하는인간이랑은 안논다 @.@    none  none      0"
      ]
     },
     "execution_count": 31,
     "metadata": {},
     "output_type": "execute_result"
    }
   ],
   "source": [
    "# title drop\n",
    "train_df = train_df.drop(columns=[\"title\"])\n",
    "train_df.head()"
   ]
  },
  {
   "cell_type": "code",
   "execution_count": 65,
   "metadata": {},
   "outputs": [
    {
     "data": {
      "text/plain": [
       "0                                        둘다 넘 좋다~행복하세요\n",
       "1                 근데 만원이하는 현금결제만 하라고 써놓은집 우리나라에 엄청 많은데\n",
       "2                                              누군데 얘네?\n",
       "3    쑈 하지마라 짜식아!음주 1번은 실수, 2번은 고의, 3번은 인간쓰레기다.슬금슬금 ...\n",
       "4    안검하수 가지고 있는 분께 희망을 주고 싶은건가요? 수술하면 이렇게 자연스러워진다고...\n",
       "Name: comment, dtype: object"
      ]
     },
     "execution_count": 65,
     "metadata": {},
     "output_type": "execute_result"
    }
   ],
   "source": [
    "test_df.head()\n",
    "test_df[\"comment\"].head()"
   ]
  },
  {
   "cell_type": "code",
   "execution_count": 126,
   "metadata": {},
   "outputs": [],
   "source": [
    "import re\n",
    "\n",
    "bias_gender = list()\n",
    "\n",
    "for idx, strings in enumerate(test_df[\"comment\"]):\n",
    "    if \"남자\" in strings or \"여자\" in strings:\n",
    "        bias_gender.append(idx)\n",
    "\n",
    "# bias_gender\n",
    "        \n",
    "    "
   ]
  },
  {
   "cell_type": "code",
   "execution_count": 137,
   "metadata": {},
   "outputs": [
    {
     "data": {
      "text/html": [
       "<div>\n",
       "<style scoped>\n",
       "    .dataframe tbody tr th:only-of-type {\n",
       "        vertical-align: middle;\n",
       "    }\n",
       "\n",
       "    .dataframe tbody tr th {\n",
       "        vertical-align: top;\n",
       "    }\n",
       "\n",
       "    .dataframe thead th {\n",
       "        text-align: right;\n",
       "    }\n",
       "</style>\n",
       "<table border=\"1\" class=\"dataframe\">\n",
       "  <thead>\n",
       "    <tr style=\"text-align: right;\">\n",
       "      <th></th>\n",
       "      <th>ID</th>\n",
       "      <th>bias</th>\n",
       "      <th>hate</th>\n",
       "    </tr>\n",
       "  </thead>\n",
       "  <tbody>\n",
       "    <tr>\n",
       "      <th>0</th>\n",
       "      <td>0</td>\n",
       "      <td>none</td>\n",
       "      <td>none</td>\n",
       "    </tr>\n",
       "    <tr>\n",
       "      <th>1</th>\n",
       "      <td>1</td>\n",
       "      <td>none</td>\n",
       "      <td>none</td>\n",
       "    </tr>\n",
       "    <tr>\n",
       "      <th>2</th>\n",
       "      <td>2</td>\n",
       "      <td>none</td>\n",
       "      <td>hate</td>\n",
       "    </tr>\n",
       "    <tr>\n",
       "      <th>3</th>\n",
       "      <td>3</td>\n",
       "      <td>others</td>\n",
       "      <td>hate</td>\n",
       "    </tr>\n",
       "    <tr>\n",
       "      <th>4</th>\n",
       "      <td>4</td>\n",
       "      <td>others</td>\n",
       "      <td>hate</td>\n",
       "    </tr>\n",
       "  </tbody>\n",
       "</table>\n",
       "</div>"
      ],
      "text/plain": [
       "   ID    bias  hate\n",
       "0   0    none  none\n",
       "1   1    none  none\n",
       "2   2    none  hate\n",
       "3   3  others  hate\n",
       "4   4  others  hate"
      ]
     },
     "execution_count": 137,
     "metadata": {},
     "output_type": "execute_result"
    }
   ],
   "source": [
    "submit = pd.read_csv(\"/USER/3_WEEK/MNC_NLP/submit/submit1.csv\")\n",
    "submit.head()"
   ]
  },
  {
   "cell_type": "code",
   "execution_count": 108,
   "metadata": {},
   "outputs": [
    {
     "name": "stdout",
     "output_type": "stream",
     "text": [
      "  8 |여자같다 어깨도 너무좁고 뜨긴글럿네 | gender hate\n",
      " 20 |제2 3의 피해자가 안나오면 꽃뱀인거네 남자란 족속들은 그냥 할수 있으면 하는구나인간이란 종자가 드럽다 | gender hate\n",
      " 31 |여자는 역시 나이어린게최고지 30살넘음 폐기물 ㅇㅈ? | gender hate\n",
      " 35 |아따 그라제 남자가 여자 만지면 성추행 여자가 남자만지면 장난이제 ~~암 그라제잉~~ | gender hate\n",
      " 49 |에휴....남자는 나이 많아도 상관없지만 여자는 ....ㅠㅠ1년 바짝 난자 모으시는데 집중하시고 시술 성공하시길!! | gender hate\n",
      " 56 |기사의 내용과는 무관하지만... 못생겼거나 성적 매력이 없는 여자들은 모두 전재산 국고로 환수 시키고 무인도에 갖다 버려져야 마땅하다 | gender hate\n",
      " 61 |왜이제서야 확뜨신겁니꼬.넘웃기고.여자들한테인기많을스타일인데 7년이나한결같이연애를ㅡㅡ | gender hate\n",
      " 63 |여자들 지금 북한 남자들하고 연애하고싶다고 난리임.ㅋㅋ | gender hate\n",
      " 76 |일반인 남자들도 저런 대화 많이들 하더라 | gender hate\n",
      " 78 |아무튼 남잘되는 꼴을 못봐요 그여자도 이상하다 | gender hate\n",
      "126 |여자 30 넘으면 상폐인데 왜 자꾸 출연시켜라 하지.. 돈 없는 남자도 출연시키든가 | gender hate\n",
      "133 |일반여자는 저렇게 하고 다니지 마라. 쇠파이프 맞는다 ㅋ | gender hate\n",
      "142 |여자들은알지 우리가 10kg찌면 어떤상태인지를. 연예인이니깐 카메라렌즈위인데도 저정도인거고 저게저키의 표준체중임. 예쁘기만하고만 | gender hate\n",
      "153 |여자들은 살려두면 안됀다는 참 교훈을 얻었다. | gender hate\n",
      "161 |초딩몸매 좋기도 하겠다. 키가 한 150대 초반이면 몰라도...쫄쫄 굶는 아프리카 성인 여자도 몸무게 30키로 후반은 나가는데.. 성인 여자이고 키 160이상이면 적어도 50키로는 되야지. | gender hate\n",
      "165 |저정도면 남자꼬일만하지ㅋㅋ쿵쾅이들 그만댓글달아라 | gender hate\n",
      "174 |여자는돈, 남자는 영계불멸의 진리 | gender hate\n",
      "182 |저런 명백한 여자 가방을 왜 매고 다녀 과하다 과해 크로스백 정도면 몰라도 뭔가 트렌드를 주도해야한단 강박에 선을 넘은 느낌 ㅉㅉ | gender hate\n",
      "196 |마약 좀 할수도있지 ㅋㅋㅋ 여자가 얼마나 힘들게했으면 ㅜㅠ | gender hate\n",
      "216 |여자는 왜 브라를 해야 할까요?? 쪼이고 답답하고 여름엔 덥고 가끔은 숨이 턱 막히는데요~ 꼭 입게 만든 사람은 누구지? 왜 우리는 그것에 따라야 할까요? 우리 조상들도 했었나요? 착용 안하면 저렇게 비난 받아야 할까요? | gender hate\n",
      "230 |나이를 떠나 남자가 너무 능력이없다 자신감도 없어보이고 | gender hate\n",
      "234 |풉ㅋㅋㅋㅋㅋㅋㅋㅋㅋㅋ.. 주접떨고있네 진짜.. 늙은이랑 돈보고 따라가는 여자랑 똑같다 진짜 | gender hate\n",
      "235 |저기 남자..겉으로는 웃고 있는거 같지만 눈빛보니 분노가 가득해보인다...아마 마음속으로는 <어쩌다가 이런 할망구하고 엮여서ㅜㅜ>...이런 마음이 있지않을까 싶다... | gender hate\n",
      "242 |여자의 적은 여자 | gender hate\n",
      "258 |어리고 이쁜게 장땡임. 여자 25살만 넘어가면 주식으로 치면 상장폐지임. 논문에따르면 25살만 넘어가면 임신햇을대 아이한테 영양분이 덜가고 기형아 낳을확률이 점점 높아짐. | gender hate\n",
      "259 |여자들은 역시 이쁜 여자연예인 기사뜨면 다 트집이네 ㅋㅋ | gender hate\n",
      "266 |악플러는 남자쪽 엄마인가 아님 누나임???배은망덕도 유분수지 | gender hate\n",
      "267 |여자로서 매력이 1도 없어 | gender hate\n",
      "271 |남자없인 단 하루도 못사는 여자 | gender hate\n",
      "281 |바람끼는 충분히 있을만 하다. 하지만 여지껏 이뤄낸걸 다 포기하면서까지 여자에게 빠질정도로 사리분별을 못할정도의 벌레는 아닐듯하다. 섵부른 비난보다는 지켜보고 억울한 사람이 없도록 해야한다. | gender hate\n",
      "282 |유흥업소 여자들이 성폭행이라는거 자체가 코미디지자기 몸 파는거 알면서 일하고 댓가로 남들보다 큰돈 버는거잖아그러면서 성폭행 신고 ? 몸파는 애들이? 어이가 없다 진짜 | gender hate\n",
      "300 |한남비율봐라 ㅋ 댓글이빻았을땐 성비를보라 ^^ 여자연얜 깔 시간에 거울이나 한번 더봥 ~ | gender hate\n",
      "301 |왜 항상 남자만 여자에게 맞춰줘야 하는건가? | gender hate\n",
      "313 |남자가 술기운에 여자좀 만질수있지 그게 뭐 대수라고 주접을 떨어 다들 여물자 | gender hate\n",
      "365 |여자애들 어떡하냐얼굴 몸 다털리고 살겟냐..그런놈 좋다고 ㅠ | gender hate\n",
      "374 |같은여자지만 조신하지 못한행동이다 자신이 섹시한건 알겠지만 가슴골짜기에 저걸 왜 꽃는거지? | gender hate\n",
      "376 |남자가 술먹고 그럴수도 있는거지 재수없게 꽃뱀들이 있어서 그런거지 | gender hate\n",
      "388 |여자 잘못만난 예 | gender hate\n",
      "393 |남자가 공석에서 질질 짜는 거 보기 안좋다 | gender hate\n",
      "401 |여자 서른살이면 임신도 못 하고 사실상 리얼돌. | gender hate\n",
      "407 |여자 복있네 다 생활력있는 여자들만 사귀네~~ | gender hate\n",
      "412 |임신확률과 아이의 질은 여자 나이가 좌우...남자들이 어린여자를 선호하는 건 본능적 행동 | gender hate\n",
      "429 |여자들이 볼땐 예쁜 얼굴이겠지만 남자인 내가 볼땐 하나도 안예쁩니다 | gender hate\n",
      "432 |어유. 그냥 딴남자랑 결혼해라. 결혼하면 여자 오지개 속썩을것 같으다 | gender hate\n",
      "438 |바람은 남편한테 따져야지 여자는 무슨죄지? 솔직히 남자가 구라까면 그만아닌가? 남자는 애낳으면 중성화수술시키든가~ 딴짓거릴못하게 원인을 제거하자~ | gender hate\n",
      "449 |취집가냐?하튼 이래서 안돼.이나라 여자들은 | gender hate\n",
      "458 |남자들이 니들 처럼 돈에 환장하는 줄아냐 나이많아도 이쁜면 또 모르지만 51이면 유통기한도 끝났을텐데 집안 대 끊을일 있냐 게다가 못생긴 연상 상식적으로 말이되 돈에 환장하지 않고서 | gender hate\n",
      "470 |얼굴만이쁘고 인성 천한년......누군들 여자가 이쁘기만 하고싶지 않겠냐마는 only 낯짝만 강조하여 외모지상주의 부추기는 골빈년 | gender hate\n",
      "483 |아이가 불쌍해...아닌가.. 아이가 남자면 엄마 목욕하는거 보고 므흣~~~~ | gender hate\n"
     ]
    }
   ],
   "source": [
    "for i in bias_gender:\n",
    "    # if submit.iloc[i][\"bias\"] != \"gender\":\n",
    "    #     print(i)\n",
    "    if submit.iloc[i][\"bias\"] == \"gender\":\n",
    "        print(f'{i:3d} |{test_df.iloc[i][\"comment\"]} | {submit.iloc[i][\"bias\"]} {submit.iloc[i][\"hate\"]}')\n",
    "        # print(submit.iloc[i][\"comment\"])\n"
   ]
  },
  {
   "cell_type": "code",
   "execution_count": 138,
   "metadata": {},
   "outputs": [
    {
     "data": {
      "text/plain": [
       "ID         432\n",
       "bias    gender\n",
       "hate      hate\n",
       "Name: 432, dtype: object"
      ]
     },
     "execution_count": 138,
     "metadata": {},
     "output_type": "execute_result"
    }
   ],
   "source": [
    "submit.iloc[432]"
   ]
  },
  {
   "cell_type": "code",
   "execution_count": 139,
   "metadata": {},
   "outputs": [],
   "source": [
    "submit.iloc[432] = [432, \"gender\", \"none\"]\n",
    "submit.iloc[407] = [407, \"gender\", \"none\"]\n",
    "submit.iloc[388] = [388, \"gender\", \"none\"]\n",
    "submit.iloc[374] = [374, \"gender\", \"none\"]\n",
    "submit.iloc[365] = [365, \"gender\", \"none\"]\n",
    "submit.iloc[281] = [281, \"gender\", \"none\"]\n",
    "submit.iloc[216] = [216, \"gender\", \"none\"]\n",
    "submit.iloc[142] = [142, \"gender\", \"none\"]\n",
    "submit.iloc[76] = [76, \"gender\", \"none\"]\n",
    "submit.iloc[61] = [61, \"gender\", \"none\"]"
   ]
  },
  {
   "cell_type": "code",
   "execution_count": 140,
   "metadata": {},
   "outputs": [],
   "source": [
    "submit.to_csv(\"/USER/3_WEEK/MNC_NLP/submit/asdf_1.csv\")"
   ]
  },
  {
   "cell_type": "code",
   "execution_count": 87,
   "metadata": {},
   "outputs": [
    {
     "data": {
      "text/plain": [
       "'무도에서 조금 얻은 인기로 여자 만나고, 그러다 점점 일은 생겼고, 이제는 숨길수 없고, 바닥부터 올라가는척? 아닐까?'"
      ]
     },
     "execution_count": 87,
     "metadata": {},
     "output_type": "execute_result"
    }
   ],
   "source": [
    "test_df.iloc[124][\"comment\"]"
   ]
  },
  {
   "cell_type": "code",
   "execution_count": 88,
   "metadata": {},
   "outputs": [
    {
     "data": {
      "text/plain": [
       "'모든 여자연예인중 진심 제일 예쁨다고 생각함!'"
      ]
     },
     "execution_count": 88,
     "metadata": {},
     "output_type": "execute_result"
    }
   ],
   "source": [
    "test_df.iloc[152][\"comment\"]"
   ]
  },
  {
   "cell_type": "code",
   "execution_count": 89,
   "metadata": {},
   "outputs": [
    {
     "data": {
      "text/plain": [
       "'단골손님 여자분 넘 이쁘심'"
      ]
     },
     "execution_count": 89,
     "metadata": {},
     "output_type": "execute_result"
    }
   ],
   "source": [
    "test_df.iloc[173][\"comment\"]"
   ]
  },
  {
   "cell_type": "code",
   "execution_count": 90,
   "metadata": {},
   "outputs": [
    {
     "data": {
      "text/plain": [
       "'인격적으로나 연기로나 정말 완벽했던 남자였다'"
      ]
     },
     "execution_count": 90,
     "metadata": {},
     "output_type": "execute_result"
    }
   ],
   "source": [
    "test_df.iloc[269][\"comment\"]"
   ]
  },
  {
   "cell_type": "code",
   "execution_count": null,
   "metadata": {},
   "outputs": [],
   "source": []
  }
 ],
 "metadata": {
  "kernelspec": {
   "display_name": "Python 3 (ipykernel)",
   "language": "python",
   "name": "python3"
  },
  "language_info": {
   "codemirror_mode": {
    "name": "ipython",
    "version": 3
   },
   "file_extension": ".py",
   "mimetype": "text/x-python",
   "name": "python",
   "nbconvert_exporter": "python",
   "pygments_lexer": "ipython3",
   "version": "3.8.5"
  }
 },
 "nbformat": 4,
 "nbformat_minor": 4
}
