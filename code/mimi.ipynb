{
 "cells": [
  {
   "cell_type": "code",
   "execution_count": 2,
   "id": "0f10702f-d40e-4818-a1dd-03f38e67331a",
   "metadata": {},
   "outputs": [
    {
     "name": "stderr",
     "output_type": "stream",
     "text": [
      "Some weights of the model checkpoint at kykim/electra-kor-base were not used when initializing ElectraModel: ['discriminator_predictions.dense.bias', 'discriminator_predictions.dense_prediction.weight', 'discriminator_predictions.dense_prediction.bias', 'discriminator_predictions.dense.weight']\n",
      "- This IS expected if you are initializing ElectraModel from the checkpoint of a model trained on another task or with another architecture (e.g. initializing a BertForSequenceClassification model from a BertForPreTraining model).\n",
      "- This IS NOT expected if you are initializing ElectraModel from the checkpoint of a model that you expect to be exactly identical (initializing a BertForSequenceClassification model from a BertForSequenceClassification model).\n"
     ]
    }
   ],
   "source": [
    "from transformers import ElectraTokenizerFast, ElectraModel, TFElectraModel\n",
    "tokenizer = ElectraTokenizerFast.from_pretrained(\"kykim/electra-kor-base\")\n",
    "model = ElectraModel.from_pretrained(\"kykim/electra-kor-base\", problem_type=\"multi_label_classification\")    # pytorch"
   ]
  },
  {
   "cell_type": "code",
   "execution_count": 3,
   "id": "5e1a9f4a-f8f8-4ec6-92bd-56fb9a2817d9",
   "metadata": {},
   "outputs": [],
   "source": [
    "inputs = tokenizer.encode(\"안녕하세요\", return_tensors='pt')\n"
   ]
  },
  {
   "cell_type": "code",
   "execution_count": 4,
   "id": "65318b05-f75c-4a7a-b5dd-c7d268594b0d",
   "metadata": {},
   "outputs": [],
   "source": [
    "outputs = model(inputs)"
   ]
  },
  {
   "cell_type": "code",
   "execution_count": 5,
   "id": "b29b52ec-1682-4b33-b489-d6d6f7c2c6c6",
   "metadata": {},
   "outputs": [
    {
     "data": {
      "text/plain": [
       "BaseModelOutputWithPastAndCrossAttentions(last_hidden_state=tensor([[[ 0.6113,  0.0737,  0.1516,  ..., -0.0645, -0.2839, -0.8342],\n",
       "         [ 0.5183, -0.1788,  0.0971,  ..., -0.2503, -0.4769,  0.4427],\n",
       "         [ 0.6867,  0.0638,  0.2023,  ..., -0.2564, -0.2937, -1.0137]]],\n",
       "       grad_fn=<NativeLayerNormBackward0>), past_key_values=None, hidden_states=None, attentions=None, cross_attentions=None)"
      ]
     },
     "execution_count": 5,
     "metadata": {},
     "output_type": "execute_result"
    }
   ],
   "source": [
    "outputs"
   ]
  },
  {
   "cell_type": "code",
   "execution_count": 6,
   "id": "396178dc-91d6-4dcd-b9d6-c7a467387ef7",
   "metadata": {},
   "outputs": [
    {
     "data": {
      "text/plain": [
       "tensor([[[ 0.6113,  0.0737,  0.1516,  ..., -0.0645, -0.2839, -0.8342],\n",
       "         [ 0.5183, -0.1788,  0.0971,  ..., -0.2503, -0.4769,  0.4427],\n",
       "         [ 0.6867,  0.0638,  0.2023,  ..., -0.2564, -0.2937, -1.0137]]],\n",
       "       grad_fn=<NativeLayerNormBackward0>)"
      ]
     },
     "execution_count": 6,
     "metadata": {},
     "output_type": "execute_result"
    }
   ],
   "source": [
    "outputs.last_hidden_state"
   ]
  },
  {
   "cell_type": "code",
   "execution_count": 15,
   "id": "c471e5cf-c822-47f6-a73d-702486b184af",
   "metadata": {},
   "outputs": [],
   "source": [
    "import re\n",
    "def remove_special_char(text):\n",
    "    text = re.sub('[^ㄱ-ㅣ가-힣 0-9]+',' ', str(text))\n",
    "    return text"
   ]
  },
  {
   "cell_type": "code",
   "execution_count": 18,
   "id": "de12dd6c-4021-47cb-844e-8777807e5b9c",
   "metadata": {},
   "outputs": [],
   "source": [
    "import pandas as pd\n",
    "test = pd.read_csv(\"/USER/3_WEEK/MNC_NLP/test/test.csv\")\n",
    "test_list =  test[\"comment\"].values.tolist()\n",
    "# test_list"
   ]
  },
  {
   "cell_type": "code",
   "execution_count": 122,
   "id": "21ba496c-54a0-451c-802a-a1835f9b3eba",
   "metadata": {},
   "outputs": [],
   "source": [
    "result = list()\n",
    "for line in test_list:\n",
    "    result.append(remove_special_char(line))\n",
    "# result"
   ]
  },
  {
   "cell_type": "code",
   "execution_count": 21,
   "id": "4767324c-ca35-426c-be1e-c4b6876822e6",
   "metadata": {},
   "outputs": [
    {
     "name": "stderr",
     "output_type": "stream",
     "text": [
      "Some weights of the model checkpoint at kykim/electra-kor-base were not used when initializing ElectraForSequenceClassification: ['discriminator_predictions.dense.bias', 'discriminator_predictions.dense_prediction.weight', 'discriminator_predictions.dense_prediction.bias', 'discriminator_predictions.dense.weight']\n",
      "- This IS expected if you are initializing ElectraForSequenceClassification from the checkpoint of a model trained on another task or with another architecture (e.g. initializing a BertForSequenceClassification model from a BertForPreTraining model).\n",
      "- This IS NOT expected if you are initializing ElectraForSequenceClassification from the checkpoint of a model that you expect to be exactly identical (initializing a BertForSequenceClassification model from a BertForSequenceClassification model).\n",
      "Some weights of ElectraForSequenceClassification were not initialized from the model checkpoint at kykim/electra-kor-base and are newly initialized: ['classifier.out_proj.weight', 'classifier.dense.weight', 'classifier.dense.bias', 'classifier.out_proj.bias']\n",
      "You should probably TRAIN this model on a down-stream task to be able to use it for predictions and inference.\n"
     ]
    }
   ],
   "source": [
    "from transformers import ElectraTokenizer, ElectraForSequenceClassification\n",
    "import torch\n",
    "\n",
    "tokenizer = ElectraTokenizer.from_pretrained(\"kykim/electra-kor-base\")\n",
    "model = ElectraForSequenceClassification.from_pretrained(\"kykim/electra-kor-base\")\n",
    "\n",
    "inputs = tokenizer(\"안녕하세요\", return_tensors=\"pt\")\n",
    "labels = torch.tensor([[1, 1]], dtype=torch.float)  # need dtype=float for BCEWithLogitsLoss\n",
    "outputs = model(**inputs, labels=labels)\n",
    "loss = outputs.loss\n",
    "logits = outputs.logits"
   ]
  },
  {
   "cell_type": "code",
   "execution_count": 120,
   "id": "f5a4024b-5d93-4375-8574-122fe9dc2b97",
   "metadata": {},
   "outputs": [],
   "source": [
    "result = result"
   ]
  },
  {
   "cell_type": "code",
   "execution_count": 124,
   "id": "a8469fb1-2224-4c84-a089-1bc446e6e8d0",
   "metadata": {},
   "outputs": [],
   "source": [
    "# result"
   ]
  },
  {
   "cell_type": "code",
   "execution_count": null,
   "id": "b30cc91f-bc7b-42d7-9cbb-6e6b239748c6",
   "metadata": {},
   "outputs": [],
   "source": []
  },
  {
   "cell_type": "code",
   "execution_count": null,
   "id": "5d2e3f18-67d6-492d-9710-0299a6934616",
   "metadata": {},
   "outputs": [],
   "source": []
  },
  {
   "cell_type": "code",
   "execution_count": null,
   "id": "36448edf-1357-4eb6-b9fd-4af2a00dfad7",
   "metadata": {},
   "outputs": [],
   "source": []
  },
  {
   "cell_type": "code",
   "execution_count": null,
   "id": "d87c5d56-18f3-4d38-8af1-85e17a95af70",
   "metadata": {},
   "outputs": [],
   "source": []
  },
  {
   "cell_type": "code",
   "execution_count": 57,
   "id": "247f2894-6235-4202-b09f-427a1f76c278",
   "metadata": {},
   "outputs": [],
   "source": [
    "from transformers import AutoTokenizer, AutoModelForSequenceClassification\n",
    "\n",
    "tokenizer = AutoTokenizer.from_pretrained(\"beomi/beep-KcELECTRA-base-hate\")\n",
    "\n",
    "model = AutoModelForSequenceClassification.from_pretrained(\"beomi/beep-KcELECTRA-base-hate\")"
   ]
  },
  {
   "cell_type": "code",
   "execution_count": 58,
   "id": "61984901-d561-4392-acf1-25ba4da58b2c",
   "metadata": {},
   "outputs": [
    {
     "data": {
      "text/plain": [
       "SequenceClassifierOutput(loss=None, logits=tensor([[ 3.1655, -0.2072, -2.5723]], grad_fn=<AddmmBackward0>), hidden_states=None, attentions=None)"
      ]
     },
     "execution_count": 58,
     "metadata": {},
     "output_type": "execute_result"
    }
   ],
   "source": [
    "inputs = tokenizer.encode(\"안녕하세요\", return_tensors='pt')\n",
    "outputs = model(inputs)\n",
    "outputs"
   ]
  },
  {
   "cell_type": "code",
   "execution_count": 70,
   "id": "c354ba9d-1f68-4c14-8434-cd679a647374",
   "metadata": {},
   "outputs": [
    {
     "data": {
      "text/plain": [
       "[3.1655, -0.2072, -2.5723]"
      ]
     },
     "execution_count": 70,
     "metadata": {},
     "output_type": "execute_result"
    }
   ],
   "source": [
    "beomi_elec_hate = outputs.logits[0].tolist()\n",
    "for i in range(len(beomi_elec_hate)):\n",
    "    beomi_elec_hate[i] = round(beomi_elec_hate[i], 4)\n",
    "beomi_elec_hate"
   ]
  },
  {
   "cell_type": "code",
   "execution_count": 60,
   "id": "6df551e8-50b2-4a47-89ca-d0a49b9ab115",
   "metadata": {},
   "outputs": [],
   "source": [
    "from transformers import AutoTokenizer, AutoModelForSequenceClassification\n",
    "\n",
    "tokenizer1 = AutoTokenizer.from_pretrained(\"beomi/beep-kcbert-base-hate\")\n",
    "\n",
    "model1 = AutoModelForSequenceClassification.from_pretrained(\"beomi/beep-kcbert-base-hate\")"
   ]
  },
  {
   "cell_type": "code",
   "execution_count": 68,
   "id": "eac51958-90fc-4ba9-a194-7211930e1359",
   "metadata": {},
   "outputs": [
    {
     "data": {
      "text/plain": [
       "SequenceClassifierOutput(loss=None, logits=tensor([[ 4.6443, -2.0024, -2.5745]], grad_fn=<AddmmBackward0>), hidden_states=None, attentions=None)"
      ]
     },
     "execution_count": 68,
     "metadata": {},
     "output_type": "execute_result"
    }
   ],
   "source": [
    "inputs1 = tokenizer1.encode(\"안녕하세요\", return_tensors='pt')\n",
    "outputs1 = model1(inputs1)\n",
    "outputs1"
   ]
  },
  {
   "cell_type": "code",
   "execution_count": 69,
   "id": "fb2b1a84-8fe0-4c20-a5d3-7a07aba6cbfa",
   "metadata": {},
   "outputs": [
    {
     "data": {
      "text/plain": [
       "[4.6443, -2.0024, -2.5745]"
      ]
     },
     "execution_count": 69,
     "metadata": {},
     "output_type": "execute_result"
    }
   ],
   "source": [
    "beomi_bert_hate = outputs1.logits[0].tolist()\n",
    "for i in range(len(beomi_bert_hate)):\n",
    "    beomi_bert_hate[i] = round(beomi_bert_hate[i], 4)\n",
    "beomi_bert_hate"
   ]
  },
  {
   "cell_type": "code",
   "execution_count": 65,
   "id": "4b8667ea-178f-4b39-b713-503e5b68125c",
   "metadata": {},
   "outputs": [
    {
     "data": {
      "application/vnd.jupyter.widget-view+json": {
       "model_id": "b89fc11f024c474480a027f68a4763bb",
       "version_major": 2,
       "version_minor": 0
      },
      "text/plain": [
       "HBox(children=(HTML(value='Downloading'), FloatProgress(value=0.0, max=61.0), HTML(value='')))"
      ]
     },
     "metadata": {},
     "output_type": "display_data"
    },
    {
     "name": "stdout",
     "output_type": "stream",
     "text": [
      "\n"
     ]
    },
    {
     "data": {
      "application/vnd.jupyter.widget-view+json": {
       "model_id": "b2158f5a61e449d0adc2f337669a4e8f",
       "version_major": 2,
       "version_minor": 0
      },
      "text/plain": [
       "HBox(children=(HTML(value='Downloading'), FloatProgress(value=0.0, max=796.0), HTML(value='')))"
      ]
     },
     "metadata": {},
     "output_type": "display_data"
    },
    {
     "name": "stdout",
     "output_type": "stream",
     "text": [
      "\n"
     ]
    },
    {
     "data": {
      "application/vnd.jupyter.widget-view+json": {
       "model_id": "0ade4e9f6de44595bd4be3d1d8d53caf",
       "version_major": 2,
       "version_minor": 0
      },
      "text/plain": [
       "HBox(children=(HTML(value='Downloading'), FloatProgress(value=0.0, max=263326.0), HTML(value='')))"
      ]
     },
     "metadata": {},
     "output_type": "display_data"
    },
    {
     "name": "stdout",
     "output_type": "stream",
     "text": [
      "\n"
     ]
    },
    {
     "data": {
      "application/vnd.jupyter.widget-view+json": {
       "model_id": "7ed4714bda8b4c7bab8936a32b715e90",
       "version_major": 2,
       "version_minor": 0
      },
      "text/plain": [
       "HBox(children=(HTML(value='Downloading'), FloatProgress(value=0.0, max=451785161.0), HTML(value='')))"
      ]
     },
     "metadata": {},
     "output_type": "display_data"
    },
    {
     "name": "stdout",
     "output_type": "stream",
     "text": [
      "\n"
     ]
    }
   ],
   "source": [
    "from transformers import AutoTokenizer, AutoModelForSequenceClassification\n",
    "\n",
    "tokenizer2 = AutoTokenizer.from_pretrained(\"monologg/koelectra-base-v3-hate-speech\")\n",
    "\n",
    "model2 = AutoModelForSequenceClassification.from_pretrained(\"monologg/koelectra-base-v3-hate-speech\")"
   ]
  },
  {
   "cell_type": "code",
   "execution_count": 66,
   "id": "5402c193-2809-4399-b02f-f77f8c84c813",
   "metadata": {},
   "outputs": [
    {
     "data": {
      "text/plain": [
       "SequenceClassifierOutput(loss=None, logits=tensor([[ 3.0431, -0.6785, -2.4874]], grad_fn=<AddmmBackward0>), hidden_states=None, attentions=None)"
      ]
     },
     "execution_count": 66,
     "metadata": {},
     "output_type": "execute_result"
    }
   ],
   "source": [
    "inputs2 = tokenizer2.encode(\"안녕하세요\", return_tensors='pt')\n",
    "outputs2 = model2(inputs2)\n",
    "outputs2"
   ]
  },
  {
   "cell_type": "code",
   "execution_count": 67,
   "id": "b0c9f37d-9244-4700-aa19-b910b09c1f37",
   "metadata": {},
   "outputs": [
    {
     "data": {
      "text/plain": [
       "[3.0431, -0.6785, -2.4874]"
      ]
     },
     "execution_count": 67,
     "metadata": {},
     "output_type": "execute_result"
    }
   ],
   "source": [
    "monologg_elec_hate = outputs2.logits[0].tolist()\n",
    "for i in range(len(monologg_elec_hate)):\n",
    "    monologg_elec_hate[i] = round(monologg_elec_hate[i], 4)\n",
    "monologg_elec_hate"
   ]
  },
  {
   "cell_type": "code",
   "execution_count": 71,
   "id": "5939ea87-e1e7-41d1-88dd-52ed24bb7969",
   "metadata": {},
   "outputs": [
    {
     "data": {
      "application/vnd.jupyter.widget-view+json": {
       "model_id": "17fcf33e480843239b8ec5d3bfeb2bfa",
       "version_major": 2,
       "version_minor": 0
      },
      "text/plain": [
       "HBox(children=(HTML(value='Downloading'), FloatProgress(value=0.0, max=396.0), HTML(value='')))"
      ]
     },
     "metadata": {},
     "output_type": "display_data"
    },
    {
     "name": "stdout",
     "output_type": "stream",
     "text": [
      "\n"
     ]
    },
    {
     "data": {
      "application/vnd.jupyter.widget-view+json": {
       "model_id": "8233a87229204c209ead578ee290b6d6",
       "version_major": 2,
       "version_minor": 0
      },
      "text/plain": [
       "HBox(children=(HTML(value='Downloading'), FloatProgress(value=0.0, max=263327.0), HTML(value='')))"
      ]
     },
     "metadata": {},
     "output_type": "display_data"
    },
    {
     "name": "stdout",
     "output_type": "stream",
     "text": [
      "\n"
     ]
    },
    {
     "data": {
      "application/vnd.jupyter.widget-view+json": {
       "model_id": "a11fe58976054e51b97f0b8153ff682d",
       "version_major": 2,
       "version_minor": 0
      },
      "text/plain": [
       "HBox(children=(HTML(value='Downloading'), FloatProgress(value=0.0, max=533762.0), HTML(value='')))"
      ]
     },
     "metadata": {},
     "output_type": "display_data"
    },
    {
     "name": "stdout",
     "output_type": "stream",
     "text": [
      "\n"
     ]
    },
    {
     "data": {
      "application/vnd.jupyter.widget-view+json": {
       "model_id": "ea1ed59036cb408791cec4cf5ffe5b29",
       "version_major": 2,
       "version_minor": 0
      },
      "text/plain": [
       "HBox(children=(HTML(value='Downloading'), FloatProgress(value=0.0, max=112.0), HTML(value='')))"
      ]
     },
     "metadata": {},
     "output_type": "display_data"
    },
    {
     "name": "stdout",
     "output_type": "stream",
     "text": [
      "\n"
     ]
    },
    {
     "data": {
      "application/vnd.jupyter.widget-view+json": {
       "model_id": "7454b845218840d2b70c64c2ec384063",
       "version_major": 2,
       "version_minor": 0
      },
      "text/plain": [
       "HBox(children=(HTML(value='Downloading'), FloatProgress(value=0.0, max=989.0), HTML(value='')))"
      ]
     },
     "metadata": {},
     "output_type": "display_data"
    },
    {
     "name": "stdout",
     "output_type": "stream",
     "text": [
      "\n"
     ]
    },
    {
     "data": {
      "application/vnd.jupyter.widget-view+json": {
       "model_id": "e6691f0cdba04d6b82507da7d4b1fd35",
       "version_major": 2,
       "version_minor": 0
      },
      "text/plain": [
       "HBox(children=(HTML(value='Downloading'), FloatProgress(value=0.0, max=451779949.0), HTML(value='')))"
      ]
     },
     "metadata": {},
     "output_type": "display_data"
    },
    {
     "name": "stdout",
     "output_type": "stream",
     "text": [
      "\n"
     ]
    }
   ],
   "source": [
    "from transformers import AutoTokenizer, AutoModelForSequenceClassification\n",
    "\n",
    "tokenizer3 = AutoTokenizer.from_pretrained(\"beomi/beep-koelectra-base-v3-discriminator-hate\")\n",
    "\n",
    "model3 = AutoModelForSequenceClassification.from_pretrained(\"beomi/beep-koelectra-base-v3-discriminator-hate\")"
   ]
  },
  {
   "cell_type": "code",
   "execution_count": 72,
   "id": "523a8b64-c994-4882-8a4e-db594a1dc18b",
   "metadata": {},
   "outputs": [
    {
     "data": {
      "text/plain": [
       "SequenceClassifierOutput(loss=None, logits=tensor([[ 5.2521, -2.9153, -2.7170]], grad_fn=<AddmmBackward0>), hidden_states=None, attentions=None)"
      ]
     },
     "execution_count": 72,
     "metadata": {},
     "output_type": "execute_result"
    }
   ],
   "source": [
    "inputs3 = tokenizer3.encode(\"안녕하세요\", return_tensors='pt')\n",
    "outputs3 = model3(inputs3)\n",
    "outputs3"
   ]
  },
  {
   "cell_type": "code",
   "execution_count": 73,
   "id": "fee78f9a-c3e1-41b6-af5f-be9f27e75a25",
   "metadata": {},
   "outputs": [
    {
     "data": {
      "text/plain": [
       "[5.2521, -2.9153, -2.717]"
      ]
     },
     "execution_count": 73,
     "metadata": {},
     "output_type": "execute_result"
    }
   ],
   "source": [
    "beomi_elec_hate_1 = outputs3.logits[0].tolist()\n",
    "for i in range(len(beomi_elec_hate_1)):\n",
    "    beomi_elec_hate_1[i] = round(beomi_elec_hate_1[i], 4)\n",
    "beomi_elec_hate_1"
   ]
  },
  {
   "cell_type": "code",
   "execution_count": 74,
   "id": "c74b12fe-570d-45a7-84cf-29a9df7dc6e5",
   "metadata": {},
   "outputs": [
    {
     "data": {
      "application/vnd.jupyter.widget-view+json": {
       "model_id": "b6cf8426099e4dc1bc78936036dd281c",
       "version_major": 2,
       "version_minor": 0
      },
      "text/plain": [
       "HBox(children=(HTML(value='Downloading'), FloatProgress(value=0.0, max=538.0), HTML(value='')))"
      ]
     },
     "metadata": {},
     "output_type": "display_data"
    },
    {
     "name": "stdout",
     "output_type": "stream",
     "text": [
      "\n"
     ]
    },
    {
     "data": {
      "application/vnd.jupyter.widget-view+json": {
       "model_id": "f986bfe4a4a445f2aa5049dac21c5410",
       "version_major": 2,
       "version_minor": 0
      },
      "text/plain": [
       "HBox(children=(HTML(value='Downloading'), FloatProgress(value=0.0, max=396418.0), HTML(value='')))"
      ]
     },
     "metadata": {},
     "output_type": "display_data"
    },
    {
     "name": "stdout",
     "output_type": "stream",
     "text": [
      "\n"
     ]
    },
    {
     "data": {
      "application/vnd.jupyter.widget-view+json": {
       "model_id": "de51dbdb6d974bffbc7c4c8edfd2f749",
       "version_major": 2,
       "version_minor": 0
      },
      "text/plain": [
       "HBox(children=(HTML(value='Downloading'), FloatProgress(value=0.0, max=787882.0), HTML(value='')))"
      ]
     },
     "metadata": {},
     "output_type": "display_data"
    },
    {
     "name": "stdout",
     "output_type": "stream",
     "text": [
      "\n"
     ]
    },
    {
     "data": {
      "application/vnd.jupyter.widget-view+json": {
       "model_id": "4559d40ef6834d36adcdb94185396d3f",
       "version_major": 2,
       "version_minor": 0
      },
      "text/plain": [
       "HBox(children=(HTML(value='Downloading'), FloatProgress(value=0.0, max=112.0), HTML(value='')))"
      ]
     },
     "metadata": {},
     "output_type": "display_data"
    },
    {
     "name": "stdout",
     "output_type": "stream",
     "text": [
      "\n"
     ]
    },
    {
     "data": {
      "application/vnd.jupyter.widget-view+json": {
       "model_id": "974adde900e84b63a3ba2604c3684b3b",
       "version_major": 2,
       "version_minor": 0
      },
      "text/plain": [
       "HBox(children=(HTML(value='Downloading'), FloatProgress(value=0.0, max=976.0), HTML(value='')))"
      ]
     },
     "metadata": {},
     "output_type": "display_data"
    },
    {
     "name": "stdout",
     "output_type": "stream",
     "text": [
      "\n"
     ]
    },
    {
     "data": {
      "application/vnd.jupyter.widget-view+json": {
       "model_id": "d2664293783540889723ac3a9639fce1",
       "version_major": 2,
       "version_minor": 0
      },
      "text/plain": [
       "HBox(children=(HTML(value='Downloading'), FloatProgress(value=0.0, max=498271853.0), HTML(value='')))"
      ]
     },
     "metadata": {},
     "output_type": "display_data"
    },
    {
     "name": "stdout",
     "output_type": "stream",
     "text": [
      "\n"
     ]
    }
   ],
   "source": [
    "from transformers import AutoTokenizer, AutoModelForSequenceClassification\n",
    "\n",
    "tokenizer4 = AutoTokenizer.from_pretrained(\"beomi/korean-hatespeech-classifier\")\n",
    "\n",
    "model4 = AutoModelForSequenceClassification.from_pretrained(\"beomi/korean-hatespeech-classifier\")"
   ]
  },
  {
   "cell_type": "code",
   "execution_count": 78,
   "id": "27b2fe5f-03de-4561-bd80-3b8d0806bbee",
   "metadata": {},
   "outputs": [
    {
     "data": {
      "text/plain": [
       "SequenceClassifierOutput(loss=None, logits=tensor([[ 1.2376, -1.5629,  0.0384]], grad_fn=<AddmmBackward0>), hidden_states=None, attentions=None)"
      ]
     },
     "execution_count": 78,
     "metadata": {},
     "output_type": "execute_result"
    }
   ],
   "source": [
    "inputs4= tokenizer4.encode(\"안녕하세요\", return_tensors='pt')\n",
    "outputs4 = model4(inputs4)\n",
    "outputs4"
   ]
  },
  {
   "cell_type": "code",
   "execution_count": 79,
   "id": "471743ed-a97e-44b5-8502-d0ae06363805",
   "metadata": {},
   "outputs": [],
   "source": [
    "# inputs4= tokenizer4(\"안녕하세요\", return_tensors='pt')\n",
    "# inputs4"
   ]
  },
  {
   "cell_type": "code",
   "execution_count": 80,
   "id": "c5c8e7e9-c345-4c3a-8249-a4034987ebe2",
   "metadata": {},
   "outputs": [
    {
     "data": {
      "text/plain": [
       "[1.2376, -1.5629, 0.0384]"
      ]
     },
     "execution_count": 80,
     "metadata": {},
     "output_type": "execute_result"
    }
   ],
   "source": [
    "beomi_elec_hate_2 = outputs4.logits[0].tolist()\n",
    "for i in range(len(beomi_elec_hate_1)):\n",
    "    beomi_elec_hate_2[i] = round(beomi_elec_hate_2[i], 4)\n",
    "beomi_elec_hate_2"
   ]
  },
  {
   "cell_type": "code",
   "execution_count": 125,
   "id": "d67b6f51-4e45-4366-afad-a72155e9df1f",
   "metadata": {},
   "outputs": [
    {
     "name": "stderr",
     "output_type": "stream",
     "text": [
      "100% 511/511 [19:34<00:00,  2.30s/it]\n"
     ]
    }
   ],
   "source": [
    "from tqdm import tqdm\n",
    "\n",
    "output = list()\n",
    "output1 = list()\n",
    "output2 = list()\n",
    "output3 = list()\n",
    "output4 = list()\n",
    "\n",
    "for i in tqdm(range(len(result))):\n",
    "    inputs = tokenizer.encode(result[i], return_tensors='pt')\n",
    "    inputs1 = tokenizer1.encode(result[i], return_tensors='pt')\n",
    "    inputs2 = tokenizer2.encode(result[i], return_tensors='pt')\n",
    "    inputs3 = tokenizer3.encode(result[i], return_tensors='pt')\n",
    "    inputs4 = tokenizer4.encode(result[i], return_tensors='pt')\n",
    "    \n",
    "    outputs = model(inputs)\n",
    "    outputs1 = model1(inputs1)\n",
    "    outputs2 = model2(inputs2)\n",
    "    outputs3 = model3(inputs3)\n",
    "    outputs4 = model4(inputs4)\n",
    "    \n",
    "    temp = outputs.logits[0].tolist()\n",
    "    for i in range(len(temp)):\n",
    "        temp[i] = round(temp[i], 4)\n",
    "    output.append(temp)\n",
    "    \n",
    "    temp = outputs1.logits[0].tolist()\n",
    "    for i in range(len(temp)):\n",
    "        temp[i] = round(temp[i], 4)\n",
    "    output1.append(temp)\n",
    "    \n",
    "    temp = outputs2.logits[0].tolist()\n",
    "    for i in range(len(temp)):\n",
    "        temp[i] = round(temp[i], 4)\n",
    "    output2.append(temp)\n",
    "    \n",
    "    temp = outputs3.logits[0].tolist()\n",
    "    for i in range(len(temp)):\n",
    "        temp[i] = round(temp[i], 4)\n",
    "    output3.append(temp)\n",
    "    \n",
    "    temp = outputs4.logits[0].tolist()\n",
    "    for i in range(len(temp)):\n",
    "        temp[i] = round(temp[i], 4)\n",
    "    output4.append(temp)\n",
    "    \n",
    "    \n",
    "    \n",
    "    \n",
    "    \n",
    "    \n",
    "    "
   ]
  },
  {
   "cell_type": "code",
   "execution_count": 151,
   "id": "8f7d71aa-6708-4630-97d5-213d2962a9aa",
   "metadata": {},
   "outputs": [],
   "source": [
    "none = list()\n",
    "hate = list()\n",
    "offensive = list()\n",
    "\n",
    "for i in range(len(result)):\n",
    "    none.append(output[i][0] + output1[i][0] + output2[i][0] + output3[i][0] + output4[i][0])\n",
    "    hate.append(output[i][1] + output1[i][1] + output2[i][1] + output3[i][1] + output4[i][1])\n",
    "    offensive.append(output[i][2] + output1[i][2] + output2[i][2] + output3[i][2] + output4[i][2])\n",
    "# none,hate,offensive"
   ]
  },
  {
   "cell_type": "code",
   "execution_count": 152,
   "id": "ae56e015-7bd4-4eaa-829b-f1e4b8d46422",
   "metadata": {},
   "outputs": [],
   "source": [
    "# output"
   ]
  },
  {
   "cell_type": "code",
   "execution_count": 153,
   "id": "43b5d00f-98b8-4f06-acc4-65cf530b2cca",
   "metadata": {},
   "outputs": [],
   "source": [
    "hate_dict = {\n",
    "    0 : 'none',\n",
    "    1 : 'hate',\n",
    "    2 : 'offensive'\n",
    "}"
   ]
  },
  {
   "cell_type": "markdown",
   "id": "2239ae0f-f418-4da7-911d-fabbf5ea76b0",
   "metadata": {},
   "source": [
    "# bias"
   ]
  },
  {
   "cell_type": "code",
   "execution_count": 105,
   "id": "53f2a49c-b83d-4cc9-ba83-29fe519750f8",
   "metadata": {
    "collapsed": true,
    "jupyter": {
     "outputs_hidden": true
    },
    "tags": []
   },
   "outputs": [
    {
     "data": {
      "application/vnd.jupyter.widget-view+json": {
       "model_id": "3077dc1d11584a85af4371786bcce74e",
       "version_major": 2,
       "version_minor": 0
      },
      "text/plain": [
       "HBox(children=(HTML(value='Downloading'), FloatProgress(value=0.0, max=396.0), HTML(value='')))"
      ]
     },
     "metadata": {},
     "output_type": "display_data"
    },
    {
     "name": "stdout",
     "output_type": "stream",
     "text": [
      "\n"
     ]
    },
    {
     "data": {
      "application/vnd.jupyter.widget-view+json": {
       "model_id": "dc0c7a6cc78e4cd39bb8a3b3f7765c1c",
       "version_major": 2,
       "version_minor": 0
      },
      "text/plain": [
       "HBox(children=(HTML(value='Downloading'), FloatProgress(value=0.0, max=263327.0), HTML(value='')))"
      ]
     },
     "metadata": {},
     "output_type": "display_data"
    },
    {
     "name": "stdout",
     "output_type": "stream",
     "text": [
      "\n"
     ]
    },
    {
     "data": {
      "application/vnd.jupyter.widget-view+json": {
       "model_id": "0faf08723e564fdfbc0b8ed6a4ad8422",
       "version_major": 2,
       "version_minor": 0
      },
      "text/plain": [
       "HBox(children=(HTML(value='Downloading'), FloatProgress(value=0.0, max=533762.0), HTML(value='')))"
      ]
     },
     "metadata": {},
     "output_type": "display_data"
    },
    {
     "name": "stdout",
     "output_type": "stream",
     "text": [
      "\n"
     ]
    },
    {
     "data": {
      "application/vnd.jupyter.widget-view+json": {
       "model_id": "2bacbc2c10ff497196f1f4bd1d866db6",
       "version_major": 2,
       "version_minor": 0
      },
      "text/plain": [
       "HBox(children=(HTML(value='Downloading'), FloatProgress(value=0.0, max=112.0), HTML(value='')))"
      ]
     },
     "metadata": {},
     "output_type": "display_data"
    },
    {
     "name": "stdout",
     "output_type": "stream",
     "text": [
      "\n"
     ]
    },
    {
     "data": {
      "application/vnd.jupyter.widget-view+json": {
       "model_id": "e1f339c67cd14873a7ada8f3c4497940",
       "version_major": 2,
       "version_minor": 0
      },
      "text/plain": [
       "HBox(children=(HTML(value='Downloading'), FloatProgress(value=0.0, max=987.0), HTML(value='')))"
      ]
     },
     "metadata": {},
     "output_type": "display_data"
    },
    {
     "name": "stdout",
     "output_type": "stream",
     "text": [
      "\n"
     ]
    },
    {
     "data": {
      "application/vnd.jupyter.widget-view+json": {
       "model_id": "ffd35447b9914d68928ce898c8e2c299",
       "version_major": 2,
       "version_minor": 0
      },
      "text/plain": [
       "HBox(children=(HTML(value='Downloading'), FloatProgress(value=0.0, max=451779949.0), HTML(value='')))"
      ]
     },
     "metadata": {},
     "output_type": "display_data"
    },
    {
     "name": "stdout",
     "output_type": "stream",
     "text": [
      "\n"
     ]
    }
   ],
   "source": [
    "from transformers import AutoTokenizer, AutoModelForSequenceClassification\n",
    "\n",
    "tokenizer5 = AutoTokenizer.from_pretrained(\"beomi/beep-koelectra-base-v3-discriminator-bias\")\n",
    "\n",
    "model5 = AutoModelForSequenceClassification.from_pretrained(\"beomi/beep-koelectra-base-v3-discriminator-bias\")"
   ]
  },
  {
   "cell_type": "code",
   "execution_count": 106,
   "id": "27433b47-2cb8-4589-98a0-acff40a3c53e",
   "metadata": {},
   "outputs": [],
   "source": [
    "from transformers import AutoTokenizer, AutoModelForSequenceClassification\n",
    "\n",
    "tokenizer6 = AutoTokenizer.from_pretrained(\"beomi/beep-KcELECTRA-base-bias\")\n",
    "\n",
    "model6 = AutoModelForSequenceClassification.from_pretrained(\"beomi/beep-KcELECTRA-base-bias\")"
   ]
  },
  {
   "cell_type": "code",
   "execution_count": 107,
   "id": "9c8f1e6b-ba06-4962-8730-d63ba932ae93",
   "metadata": {
    "collapsed": true,
    "jupyter": {
     "outputs_hidden": true
    },
    "tags": []
   },
   "outputs": [
    {
     "data": {
      "application/vnd.jupyter.widget-view+json": {
       "model_id": "8c3ad6bab6144735909a9caaa47ea863",
       "version_major": 2,
       "version_minor": 0
      },
      "text/plain": [
       "HBox(children=(HTML(value='Downloading'), FloatProgress(value=0.0, max=61.0), HTML(value='')))"
      ]
     },
     "metadata": {},
     "output_type": "display_data"
    },
    {
     "name": "stdout",
     "output_type": "stream",
     "text": [
      "\n"
     ]
    },
    {
     "data": {
      "application/vnd.jupyter.widget-view+json": {
       "model_id": "34ef3801670b400bbda65a4916e8474f",
       "version_major": 2,
       "version_minor": 0
      },
      "text/plain": [
       "HBox(children=(HTML(value='Downloading'), FloatProgress(value=0.0, max=765.0), HTML(value='')))"
      ]
     },
     "metadata": {},
     "output_type": "display_data"
    },
    {
     "name": "stdout",
     "output_type": "stream",
     "text": [
      "\n"
     ]
    },
    {
     "data": {
      "application/vnd.jupyter.widget-view+json": {
       "model_id": "dac88627da5646aaaf1e518ad252bf05",
       "version_major": 2,
       "version_minor": 0
      },
      "text/plain": [
       "HBox(children=(HTML(value='Downloading'), FloatProgress(value=0.0, max=263326.0), HTML(value='')))"
      ]
     },
     "metadata": {},
     "output_type": "display_data"
    },
    {
     "name": "stdout",
     "output_type": "stream",
     "text": [
      "\n"
     ]
    },
    {
     "data": {
      "application/vnd.jupyter.widget-view+json": {
       "model_id": "9d49a734304941148981afea86d0c2d3",
       "version_major": 2,
       "version_minor": 0
      },
      "text/plain": [
       "HBox(children=(HTML(value='Downloading'), FloatProgress(value=0.0, max=451782089.0), HTML(value='')))"
      ]
     },
     "metadata": {},
     "output_type": "display_data"
    },
    {
     "name": "stdout",
     "output_type": "stream",
     "text": [
      "\n"
     ]
    }
   ],
   "source": [
    "from transformers import AutoTokenizer, AutoModelForSequenceClassification\n",
    "\n",
    "tokenizer7 = AutoTokenizer.from_pretrained(\"monologg/koelectra-base-v3-gender-bias\")\n",
    "\n",
    "model7 = AutoModelForSequenceClassification.from_pretrained(\"monologg/koelectra-base-v3-gender-bias\")"
   ]
  },
  {
   "cell_type": "code",
   "execution_count": 108,
   "id": "e8f6805f-4ea8-430d-aee0-28bc4e3025b3",
   "metadata": {
    "collapsed": true,
    "jupyter": {
     "outputs_hidden": true
    },
    "tags": []
   },
   "outputs": [
    {
     "data": {
      "application/vnd.jupyter.widget-view+json": {
       "model_id": "1e76a680adb3423b93ffac34c59178ce",
       "version_major": 2,
       "version_minor": 0
      },
      "text/plain": [
       "HBox(children=(HTML(value='Downloading'), FloatProgress(value=0.0, max=61.0), HTML(value='')))"
      ]
     },
     "metadata": {},
     "output_type": "display_data"
    },
    {
     "name": "stdout",
     "output_type": "stream",
     "text": [
      "\n"
     ]
    },
    {
     "data": {
      "application/vnd.jupyter.widget-view+json": {
       "model_id": "2a2ed5da388c4a98a7d300a945761c07",
       "version_major": 2,
       "version_minor": 0
      },
      "text/plain": [
       "HBox(children=(HTML(value='Downloading'), FloatProgress(value=0.0, max=803.0), HTML(value='')))"
      ]
     },
     "metadata": {},
     "output_type": "display_data"
    },
    {
     "name": "stdout",
     "output_type": "stream",
     "text": [
      "\n"
     ]
    },
    {
     "data": {
      "application/vnd.jupyter.widget-view+json": {
       "model_id": "fe8a6560865345c38f7991d003040a4f",
       "version_major": 2,
       "version_minor": 0
      },
      "text/plain": [
       "HBox(children=(HTML(value='Downloading'), FloatProgress(value=0.0, max=263326.0), HTML(value='')))"
      ]
     },
     "metadata": {},
     "output_type": "display_data"
    },
    {
     "name": "stdout",
     "output_type": "stream",
     "text": [
      "\n"
     ]
    },
    {
     "data": {
      "application/vnd.jupyter.widget-view+json": {
       "model_id": "93e5b23298de48fca103ba09fa9ae5ff",
       "version_major": 2,
       "version_minor": 0
      },
      "text/plain": [
       "HBox(children=(HTML(value='Downloading'), FloatProgress(value=0.0, max=451785161.0), HTML(value='')))"
      ]
     },
     "metadata": {},
     "output_type": "display_data"
    },
    {
     "name": "stdout",
     "output_type": "stream",
     "text": [
      "\n"
     ]
    }
   ],
   "source": [
    "from transformers import AutoTokenizer, AutoModelForSequenceClassification\n",
    "\n",
    "tokenizer8 = AutoTokenizer.from_pretrained(\"monologg/koelectra-base-v3-bias\")\n",
    "\n",
    "model8 = AutoModelForSequenceClassification.from_pretrained(\"monologg/koelectra-base-v3-bias\")"
   ]
  },
  {
   "cell_type": "code",
   "execution_count": 129,
   "id": "7b99f470-a51a-45eb-a97f-ddfb625610e7",
   "metadata": {},
   "outputs": [
    {
     "name": "stderr",
     "output_type": "stream",
     "text": [
      "100% 511/511 [13:29<00:00,  1.58s/it]\n"
     ]
    }
   ],
   "source": [
    "from tqdm import tqdm\n",
    "\n",
    "output5 = list()\n",
    "output6 = list()\n",
    "output7 = list()\n",
    "output8 = list()\n",
    "# output4 = list()\n",
    "\n",
    "for i in tqdm(range(len(result))):\n",
    "    inputs5 = tokenizer5.encode(result[i], return_tensors='pt')\n",
    "    inputs6 = tokenizer6.encode(result[i], return_tensors='pt')\n",
    "    inputs7 = tokenizer7.encode(result[i], return_tensors='pt')\n",
    "    inputs8 = tokenizer8.encode(result[i], return_tensors='pt')\n",
    "    # inputs4 = tokenizer4.encode(result[i], return_tensors='pt')\n",
    "    \n",
    "    outputs5 = model5(inputs5)\n",
    "    outputs6 = model6(inputs6)\n",
    "    outputs7 = model7(inputs7)\n",
    "    outputs8 = model8(inputs8)\n",
    "    # outputs4 = model4(inputs4)\n",
    "    \n",
    "    temp = outputs5.logits[0].tolist()\n",
    "    for i in range(len(temp)):\n",
    "        temp[i] = round(temp[i], 4)\n",
    "    output5.append(temp)\n",
    "    \n",
    "    temp = outputs6.logits[0].tolist()\n",
    "    for i in range(len(temp)):\n",
    "        temp[i] = round(temp[i], 4)\n",
    "    output6.append(temp)\n",
    "    \n",
    "    temp = outputs7.logits[0].tolist()\n",
    "    for i in range(len(temp)):\n",
    "        temp[i] = round(temp[i], 4)\n",
    "    output7.append(temp)\n",
    "    \n",
    "    temp = outputs8.logits[0].tolist()\n",
    "    for i in range(len(temp)):\n",
    "        temp[i] = round(temp[i], 4)\n",
    "    output8.append(temp)\n",
    "    \n",
    "    # temp = outputs4.logits[0].tolist()\n",
    "    # for i in range(len(temp)):\n",
    "    #     temp[i] = round(temp[i], 4)\n",
    "    # output4.append(temp)\n",
    "    \n",
    "    \n",
    "    \n",
    "    \n",
    "    \n",
    "    \n",
    "    "
   ]
  },
  {
   "cell_type": "code",
   "execution_count": 130,
   "id": "e0822e31-4203-423f-9a1a-6c4b0c99001f",
   "metadata": {},
   "outputs": [],
   "source": [
    "# output5"
   ]
  },
  {
   "cell_type": "code",
   "execution_count": 131,
   "id": "314a9114-437a-46e1-a4c4-4ec4efeeb53d",
   "metadata": {},
   "outputs": [],
   "source": [
    "# output6"
   ]
  },
  {
   "cell_type": "code",
   "execution_count": 132,
   "id": "3c6a3925-e329-4d1e-8d9d-8322a8c812a5",
   "metadata": {},
   "outputs": [],
   "source": [
    "# output7"
   ]
  },
  {
   "cell_type": "code",
   "execution_count": 133,
   "id": "428682e6-569f-44b2-ad43-2d1fd307e027",
   "metadata": {},
   "outputs": [],
   "source": [
    "# output8"
   ]
  },
  {
   "cell_type": "code",
   "execution_count": 154,
   "id": "bafeabf1-9fd9-417e-99b9-dd124bc4d810",
   "metadata": {},
   "outputs": [],
   "source": [
    "none_1 = list()\n",
    "gender = list()\n",
    "others = list()\n",
    "\n",
    "for i in range(len(result)):\n",
    "    none_1.append(output5[i][0] + output6[i][0] + output7[i][0] + output8[i][0])\n",
    "    gender.append(output5[i][1] + output6[i][1] + output7[i][1] + output8[i][1])\n",
    "    others.append(output5[i][2] + output6[i][2] + output8[i][2])\n",
    "# none_1,hate,others"
   ]
  },
  {
   "cell_type": "code",
   "execution_count": 155,
   "id": "b470c006-05e2-40bd-9df8-6491409c2bd7",
   "metadata": {},
   "outputs": [],
   "source": [
    "bias_dict = {\n",
    "    0 : 'none',\n",
    "    1 : 'gender',\n",
    "    2 : 'others'\n",
    "}"
   ]
  },
  {
   "cell_type": "code",
   "execution_count": 180,
   "id": "8cf66c6c-7c7d-4375-8017-073a00c6eaa0",
   "metadata": {},
   "outputs": [
    {
     "data": {
      "text/html": [
       "<div>\n",
       "<style scoped>\n",
       "    .dataframe tbody tr th:only-of-type {\n",
       "        vertical-align: middle;\n",
       "    }\n",
       "\n",
       "    .dataframe tbody tr th {\n",
       "        vertical-align: top;\n",
       "    }\n",
       "\n",
       "    .dataframe thead th {\n",
       "        text-align: right;\n",
       "    }\n",
       "</style>\n",
       "<table border=\"1\" class=\"dataframe\">\n",
       "  <thead>\n",
       "    <tr style=\"text-align: right;\">\n",
       "      <th></th>\n",
       "      <th>ID</th>\n",
       "      <th>bias</th>\n",
       "      <th>hate</th>\n",
       "    </tr>\n",
       "  </thead>\n",
       "  <tbody>\n",
       "    <tr>\n",
       "      <th>0</th>\n",
       "      <td>0</td>\n",
       "      <td>none</td>\n",
       "      <td>none</td>\n",
       "    </tr>\n",
       "    <tr>\n",
       "      <th>1</th>\n",
       "      <td>1</td>\n",
       "      <td>none</td>\n",
       "      <td>none</td>\n",
       "    </tr>\n",
       "    <tr>\n",
       "      <th>2</th>\n",
       "      <td>2</td>\n",
       "      <td>none</td>\n",
       "      <td>none</td>\n",
       "    </tr>\n",
       "    <tr>\n",
       "      <th>3</th>\n",
       "      <td>3</td>\n",
       "      <td>none</td>\n",
       "      <td>none</td>\n",
       "    </tr>\n",
       "    <tr>\n",
       "      <th>4</th>\n",
       "      <td>4</td>\n",
       "      <td>none</td>\n",
       "      <td>none</td>\n",
       "    </tr>\n",
       "    <tr>\n",
       "      <th>...</th>\n",
       "      <td>...</td>\n",
       "      <td>...</td>\n",
       "      <td>...</td>\n",
       "    </tr>\n",
       "    <tr>\n",
       "      <th>506</th>\n",
       "      <td>506</td>\n",
       "      <td>none</td>\n",
       "      <td>none</td>\n",
       "    </tr>\n",
       "    <tr>\n",
       "      <th>507</th>\n",
       "      <td>507</td>\n",
       "      <td>none</td>\n",
       "      <td>none</td>\n",
       "    </tr>\n",
       "    <tr>\n",
       "      <th>508</th>\n",
       "      <td>508</td>\n",
       "      <td>none</td>\n",
       "      <td>none</td>\n",
       "    </tr>\n",
       "    <tr>\n",
       "      <th>509</th>\n",
       "      <td>509</td>\n",
       "      <td>none</td>\n",
       "      <td>none</td>\n",
       "    </tr>\n",
       "    <tr>\n",
       "      <th>510</th>\n",
       "      <td>510</td>\n",
       "      <td>none</td>\n",
       "      <td>none</td>\n",
       "    </tr>\n",
       "  </tbody>\n",
       "</table>\n",
       "<p>511 rows × 3 columns</p>\n",
       "</div>"
      ],
      "text/plain": [
       "      ID  bias  hate\n",
       "0      0  none  none\n",
       "1      1  none  none\n",
       "2      2  none  none\n",
       "3      3  none  none\n",
       "4      4  none  none\n",
       "..   ...   ...   ...\n",
       "506  506  none  none\n",
       "507  507  none  none\n",
       "508  508  none  none\n",
       "509  509  none  none\n",
       "510  510  none  none\n",
       "\n",
       "[511 rows x 3 columns]"
      ]
     },
     "execution_count": 180,
     "metadata": {},
     "output_type": "execute_result"
    }
   ],
   "source": [
    "submit = pd.read_csv(\"/USER/3_WEEK/MNC_NLP/test/sample_submission.csv\")\n",
    "submit"
   ]
  },
  {
   "cell_type": "code",
   "execution_count": 181,
   "id": "48e93ee6-b93e-441d-b34e-3be5b3149224",
   "metadata": {},
   "outputs": [
    {
     "data": {
      "text/plain": [
       "float"
      ]
     },
     "execution_count": 181,
     "metadata": {},
     "output_type": "execute_result"
    }
   ],
   "source": [
    "# type(none[0]),\n",
    "type(hate[0])\n",
    "# type(offensive[0]),"
   ]
  },
  {
   "cell_type": "code",
   "execution_count": 182,
   "id": "1fa3d315-54df-49e4-99d7-ec01a7d17a88",
   "metadata": {},
   "outputs": [],
   "source": [
    "bias = \"\"\n",
    "hate_1 = \"\"\n",
    "for i in range(len(submit)):\n",
    "    temp = max(none_1[i], gender[i], others[i])\n",
    "    if temp == none_1[i]:\n",
    "        bias += \"none\"\n",
    "    elif temp == gender[i]:\n",
    "        bias += \"others\"\n",
    "    elif temp == others[i]:\n",
    "        bias += \"gender\"\n",
    "    \n",
    "    temp1 = max(none[i], hate[i], offensive[i])\n",
    "    if temp1 == none[i]:\n",
    "        hate_1 += \"none\"\n",
    "    else:\n",
    "        hate_1 += \"hate\"\n",
    "    \n",
    "    submit.iloc[i] = [i, bias, hate_1]\n",
    "    bias = \"\"\n",
    "    hate_1 = \"\"\n",
    "    "
   ]
  },
  {
   "cell_type": "code",
   "execution_count": 183,
   "id": "733bb4f4-99df-4ce0-918a-8805e10bf733",
   "metadata": {},
   "outputs": [
    {
     "data": {
      "text/html": [
       "<div>\n",
       "<style scoped>\n",
       "    .dataframe tbody tr th:only-of-type {\n",
       "        vertical-align: middle;\n",
       "    }\n",
       "\n",
       "    .dataframe tbody tr th {\n",
       "        vertical-align: top;\n",
       "    }\n",
       "\n",
       "    .dataframe thead th {\n",
       "        text-align: right;\n",
       "    }\n",
       "</style>\n",
       "<table border=\"1\" class=\"dataframe\">\n",
       "  <thead>\n",
       "    <tr style=\"text-align: right;\">\n",
       "      <th></th>\n",
       "      <th>ID</th>\n",
       "      <th>bias</th>\n",
       "      <th>hate</th>\n",
       "    </tr>\n",
       "  </thead>\n",
       "  <tbody>\n",
       "    <tr>\n",
       "      <th>0</th>\n",
       "      <td>0</td>\n",
       "      <td>none</td>\n",
       "      <td>none</td>\n",
       "    </tr>\n",
       "    <tr>\n",
       "      <th>1</th>\n",
       "      <td>1</td>\n",
       "      <td>none</td>\n",
       "      <td>none</td>\n",
       "    </tr>\n",
       "    <tr>\n",
       "      <th>2</th>\n",
       "      <td>2</td>\n",
       "      <td>none</td>\n",
       "      <td>hate</td>\n",
       "    </tr>\n",
       "    <tr>\n",
       "      <th>3</th>\n",
       "      <td>3</td>\n",
       "      <td>none</td>\n",
       "      <td>hate</td>\n",
       "    </tr>\n",
       "    <tr>\n",
       "      <th>4</th>\n",
       "      <td>4</td>\n",
       "      <td>none</td>\n",
       "      <td>none</td>\n",
       "    </tr>\n",
       "    <tr>\n",
       "      <th>...</th>\n",
       "      <td>...</td>\n",
       "      <td>...</td>\n",
       "      <td>...</td>\n",
       "    </tr>\n",
       "    <tr>\n",
       "      <th>506</th>\n",
       "      <td>506</td>\n",
       "      <td>none</td>\n",
       "      <td>hate</td>\n",
       "    </tr>\n",
       "    <tr>\n",
       "      <th>507</th>\n",
       "      <td>507</td>\n",
       "      <td>none</td>\n",
       "      <td>none</td>\n",
       "    </tr>\n",
       "    <tr>\n",
       "      <th>508</th>\n",
       "      <td>508</td>\n",
       "      <td>gender</td>\n",
       "      <td>hate</td>\n",
       "    </tr>\n",
       "    <tr>\n",
       "      <th>509</th>\n",
       "      <td>509</td>\n",
       "      <td>none</td>\n",
       "      <td>hate</td>\n",
       "    </tr>\n",
       "    <tr>\n",
       "      <th>510</th>\n",
       "      <td>510</td>\n",
       "      <td>none</td>\n",
       "      <td>hate</td>\n",
       "    </tr>\n",
       "  </tbody>\n",
       "</table>\n",
       "<p>511 rows × 3 columns</p>\n",
       "</div>"
      ],
      "text/plain": [
       "      ID    bias  hate\n",
       "0      0    none  none\n",
       "1      1    none  none\n",
       "2      2    none  hate\n",
       "3      3    none  hate\n",
       "4      4    none  none\n",
       "..   ...     ...   ...\n",
       "506  506    none  hate\n",
       "507  507    none  none\n",
       "508  508  gender  hate\n",
       "509  509    none  hate\n",
       "510  510    none  hate\n",
       "\n",
       "[511 rows x 3 columns]"
      ]
     },
     "execution_count": 183,
     "metadata": {},
     "output_type": "execute_result"
    }
   ],
   "source": [
    "submit"
   ]
  },
  {
   "cell_type": "code",
   "execution_count": 184,
   "id": "6f5ae971-eb75-4d7f-ae15-2e94a526209b",
   "metadata": {},
   "outputs": [
    {
     "name": "stdout",
     "output_type": "stream",
     "text": [
      "['none' 'gender' 'others']\n",
      "['none' 'hate']\n"
     ]
    }
   ],
   "source": [
    "print(submit[\"bias\"].unique())\n",
    "print(submit[\"hate\"].unique())"
   ]
  },
  {
   "cell_type": "code",
   "execution_count": 185,
   "id": "73b274dd-a3ff-43f1-a2cd-a3c0e2048b9b",
   "metadata": {},
   "outputs": [
    {
     "name": "stdout",
     "output_type": "stream",
     "text": [
      "none      384\n",
      "gender     72\n",
      "others     55\n",
      "Name: bias, dtype: int64\n",
      "hate    321\n",
      "none    190\n",
      "Name: hate, dtype: int64\n"
     ]
    }
   ],
   "source": [
    "print(submit[\"bias\"].value_counts())\n",
    "print(submit[\"hate\"].value_counts())"
   ]
  },
  {
   "cell_type": "code",
   "execution_count": 186,
   "id": "aedb0f5a-e2ef-4e2a-84fc-baafc411db69",
   "metadata": {},
   "outputs": [],
   "source": [
    "submit.to_csv(\"/USER/3_WEEK/MNC_NLP/submit/result1234.csv\")"
   ]
  },
  {
   "cell_type": "code",
   "execution_count": null,
   "id": "7fc62483-c1eb-4727-bc1a-cf7379f9503f",
   "metadata": {},
   "outputs": [],
   "source": []
  }
 ],
 "metadata": {
  "kernelspec": {
   "display_name": "Python 3 (ipykernel)",
   "language": "python",
   "name": "python3"
  },
  "language_info": {
   "codemirror_mode": {
    "name": "ipython",
    "version": 3
   },
   "file_extension": ".py",
   "mimetype": "text/x-python",
   "name": "python",
   "nbconvert_exporter": "python",
   "pygments_lexer": "ipython3",
   "version": "3.8.5"
  }
 },
 "nbformat": 4,
 "nbformat_minor": 5
}
